{
 "cells": [
  {
   "cell_type": "code",
   "execution_count": 4,
   "id": "8f264b61",
   "metadata": {},
   "outputs": [
    {
     "name": "stdout",
     "output_type": "stream",
     "text": [
      "Maximum subtree sum: 28\n",
      "Maximum subtree sum: 7\n"
     ]
    }
   ],
   "source": [
    "class Node:\n",
    "    def __init__(self, value):\n",
    "        self.value = value\n",
    "        self.left = None\n",
    "        self.right = None\n",
    "\n",
    "def SumSubtree(root):\n",
    "    global maxSum\n",
    "    maxSum = float('-inf')\n",
    "    \n",
    "    def MaxSum(node):\n",
    "        global maxSum\n",
    "        if node is None:\n",
    "            return 0\n",
    "        \n",
    "        leftSum = MaxSum(node.left)\n",
    "        rightSum = MaxSum(node.right)\n",
    "        \n",
    "        subtreeSum = node.value + leftSum + rightSum\n",
    "        \n",
    "        maxSum = max(maxSum, subtreeSum)\n",
    "        \n",
    "        return subtreeSum\n",
    "    \n",
    "    MaxSum(root)\n",
    "    \n",
    "    return maxSum\n",
    "\n",
    "root = Node(1)\n",
    "root.left = Node(2)\n",
    "root.right = Node(3)\n",
    "root.left.left = Node(4)\n",
    "root.left.right = Node(5)\n",
    "root.right.left = Node(6)\n",
    "root.right.right = Node(7)\n",
    "\n",
    "maxSubtreeSum = SumSubtree(root)\n",
    "print(\"Maximum subtree sum:\", maxSubtreeSum)\n",
    "\n",
    "\n",
    "root = Node(1)\n",
    "root.left = Node(-2)\n",
    "root.right = Node(3)\n",
    "root.left.left = Node(4)\n",
    "root.left.right = Node(5)\n",
    "root.right.left = Node(-6)\n",
    "root.right.right = Node(2)\n",
    "\n",
    "maxSubtreeSum = SumSubtree(root)\n",
    "print(\"Maximum subtree sum:\", maxSubtreeSum)\n"
   ]
  },
  {
   "cell_type": "code",
   "execution_count": 6,
   "id": "d745d685",
   "metadata": {},
   "outputs": [
    {
     "name": "stdout",
     "output_type": "stream",
     "text": [
      "BST:\n",
      "[5, 3, 10, 4, 6, 7, 8, 12, 1]\n"
     ]
    }
   ],
   "source": [
    "class Node:\n",
    "    def __init__(self, value):\n",
    "        self.value = value\n",
    "        self.left = None\n",
    "        self.right = None\n",
    "\n",
    "def BSTconst(levelOrder):\n",
    "    if not levelOrder:\n",
    "        return None\n",
    "    \n",
    "    root = Node(levelOrder[0])\n",
    "    queue = [root]\n",
    "    i = 1\n",
    "    \n",
    "    while i < len(levelOrder):\n",
    "        current = queue.pop(0)\n",
    "        \n",
    "        leftValue = levelOrder[i]\n",
    "        if leftValue != -1:\n",
    "            leftNode = Node(leftValue)\n",
    "            current.left = leftNode\n",
    "            queue.append(leftNode)\n",
    "        \n",
    "        i += 1\n",
    "        if i >= len(levelOrder):\n",
    "            break\n",
    "        \n",
    "        rightValue = levelOrder[i]\n",
    "        if rightValue != -1:\n",
    "            rightNode = Node(rightValue)\n",
    "            current.right = rightNode\n",
    "            queue.append(rightNode)\n",
    "        \n",
    "        i += 1\n",
    "    \n",
    "    return root\n",
    "\n",
    "def inordertraversal(node):\n",
    "    if node is None:\n",
    "        return []\n",
    "    \n",
    "    left = inordertraversal(node.left)\n",
    "    right = inordertraversal(node.right)\n",
    "    \n",
    "    return left + [node.value] + right\n",
    "\n",
    "levelOrder = [7, 4, 12, 3, 6, 8, 1, 5, 10]\n",
    "\n",
    "root = BSTconst(levelOrder)\n",
    "\n",
    "print(\"BST:\")\n",
    "print(inordertraversal(root))\n"
   ]
  },
  {
   "cell_type": "code",
   "execution_count": 9,
   "id": "0f2470c8",
   "metadata": {},
   "outputs": [
    {
     "name": "stdout",
     "output_type": "stream",
     "text": [
      "No\n",
      "No\n"
     ]
    }
   ],
   "source": [
    "def BST(arr):\n",
    "    n = len(arr)\n",
    "    lowerBound = []\n",
    "    upperBound = []\n",
    "    lowerBound.append(arr[0])\n",
    "    for i in range(1, n):\n",
    "        if arr[i] <= lowerBound[-1]:\n",
    "            return \"No\"\n",
    "        while upperBound and arr[i] > upperBound[-1]:\n",
    "            lowerBound.pop()\n",
    "            upperBound.pop()\n",
    "        lowerBound.append(arr[i])\n",
    "        if arr[i] > lowerBound[-2]:\n",
    "            upperBound.append(arr[i])\n",
    "    return \"Yes\"\n",
    "\n",
    "arr1 = [7, 4, 12, 3, 6, 8, 1, 5, 10]\n",
    "arr2 = [11, 6, 13, 5, 12, 10]\n",
    "\n",
    "print(BST(arr1))\n",
    "print(BST(arr2))\n"
   ]
  },
  {
   "cell_type": "code",
   "execution_count": null,
   "id": "47648c7d",
   "metadata": {},
   "outputs": [],
   "source": []
  }
 ],
 "metadata": {
  "kernelspec": {
   "display_name": "Python 3 (ipykernel)",
   "language": "python",
   "name": "python3"
  },
  "language_info": {
   "codemirror_mode": {
    "name": "ipython",
    "version": 3
   },
   "file_extension": ".py",
   "mimetype": "text/x-python",
   "name": "python",
   "nbconvert_exporter": "python",
   "pygments_lexer": "ipython3",
   "version": "3.9.12"
  }
 },
 "nbformat": 4,
 "nbformat_minor": 5
}
