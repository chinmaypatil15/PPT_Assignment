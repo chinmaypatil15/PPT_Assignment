{
 "cells": [
  {
   "cell_type": "code",
   "execution_count": 2,
   "id": "7c5273a1",
   "metadata": {},
   "outputs": [
    {
     "name": "stdout",
     "output_type": "stream",
     "text": [
      "0\n",
      "2\n",
      "-1\n"
     ]
    }
   ],
   "source": [
    "def firstUniqChar(s):\n",
    "    char_count = {}\n",
    "    \n",
    "    for char in s:\n",
    "        if char in char_count:\n",
    "            char_count[char] += 1\n",
    "        else:\n",
    "            char_count[char] = 1\n",
    "    \n",
    "    for i, char in enumerate(s):\n",
    "        if char_count[char] == 1:\n",
    "            return i\n",
    "    \n",
    "    return -1\n",
    "\n",
    "s = \"leetcode\"\n",
    "print(firstUniqChar(s))\n",
    "\n",
    "\n",
    "s = \"loveleetcode\"\n",
    "print(firstUniqChar(s))\n",
    "\n",
    "s = \"aabb\"\n",
    "print(firstUniqChar(s))"
   ]
  },
  {
   "cell_type": "code",
   "execution_count": 4,
   "id": "2a78d9ee",
   "metadata": {},
   "outputs": [
    {
     "name": "stdout",
     "output_type": "stream",
     "text": [
      "3\n",
      "7\n",
      "-2\n"
     ]
    }
   ],
   "source": [
    "def subarraysum(nums):\n",
    "    def kadane(nums):\n",
    "        max_sum = float('-inf')\n",
    "        current_sum = 0\n",
    "        for num in nums:\n",
    "            current_sum = max(num, current_sum + num)\n",
    "            max_sum = max(max_sum, current_sum)\n",
    "        return max_sum\n",
    "\n",
    "    max_sum = kadane(nums)\n",
    "    min_sum = kadane([-num for num in nums])\n",
    "    total_sum = sum(nums)\n",
    "\n",
    "    if total_sum - min_sum > max_sum and total_sum != 0:\n",
    "        return total_sum - min_sum\n",
    "    else:\n",
    "        return max_sum\n",
    "\n",
    "# Example usage\n",
    "nums = [1, -2, 3, -2]\n",
    "print(subarraysum(nums))\n",
    "\n",
    "nums = [5,-3,5]\n",
    "print(subarraysum(nums))\n",
    "\n",
    "nums = [-3,-2,-3]\n",
    "print(subarraysum(nums))"
   ]
  },
  {
   "cell_type": "code",
   "execution_count": 5,
   "id": "24e5cac1",
   "metadata": {},
   "outputs": [
    {
     "name": "stdout",
     "output_type": "stream",
     "text": [
      "0\n",
      "3\n"
     ]
    }
   ],
   "source": [
    "def countstudents(students, sandwiches):\n",
    "    count = 0\n",
    "    queue = students\n",
    "    \n",
    "    while len(queue) > 0:\n",
    "        if queue[0] == sandwiches[0]:\n",
    "            queue.pop(0)\n",
    "            sandwiches.pop(0)\n",
    "            count = 0\n",
    "        else:\n",
    "            queue.append(queue.pop(0))\n",
    "            count += 1\n",
    "            \n",
    "        if count == len(queue):\n",
    "            break\n",
    "\n",
    "    return count\n",
    "\n",
    "\n",
    "students = [1, 1, 0, 0]\n",
    "sandwiches = [0, 1, 0, 1]\n",
    "print(countstudents(students, sandwiches))\n",
    "\n",
    "students = [1, 1, 1, 0, 0, 1]\n",
    "sandwiches = [1, 0, 0, 0, 1, 1]\n",
    "print(countstudents(students, sandwiches))\n"
   ]
  },
  {
   "cell_type": "code",
   "execution_count": 8,
   "id": "ca6e422b",
   "metadata": {},
   "outputs": [
    {
     "name": "stdout",
     "output_type": "stream",
     "text": [
      "1\n",
      "2\n",
      "3\n",
      "3\n"
     ]
    }
   ],
   "source": [
    "from collections import deque\n",
    "\n",
    "class RecentCounter:\n",
    "    def __init__(self):\n",
    "        self.requests = deque()\n",
    "\n",
    "    def ping(self, t: int) -> int:\n",
    "        self.requests.append(t)\n",
    "\n",
    "        while self.requests[0] < t - 3000:\n",
    "            self.requests.popleft()\n",
    "\n",
    "        return len(self.requests)\n",
    "\n",
    "recentCounter = RecentCounter()\n",
    "print(recentCounter.ping(1))\n",
    "print(recentCounter.ping(100))\n",
    "print(recentCounter.ping(3001))\n",
    "print(recentCounter.ping(3002))\n"
   ]
  },
  {
   "cell_type": "code",
   "execution_count": 11,
   "id": "857e16b6",
   "metadata": {},
   "outputs": [
    {
     "name": "stdout",
     "output_type": "stream",
     "text": [
      "3\n",
      "1\n"
     ]
    }
   ],
   "source": [
    "def findwinner(n, k):\n",
    "    friends = list(range(1, n + 1))\n",
    "    current = 0\n",
    "\n",
    "    while len(friends) > 1:\n",
    "        current = (current + k - 1) % len(friends)\n",
    "        friends.pop(current)\n",
    "\n",
    "    return friends[0]\n",
    "\n",
    "n = 5\n",
    "k = 2\n",
    "winner = findwinner(n, k)\n",
    "print(winner)\n",
    "\n",
    "\n",
    "n = 6\n",
    "k = 5\n",
    "winner = findwinner(n, k)\n",
    "print(winner)"
   ]
  },
  {
   "cell_type": "code",
   "execution_count": 10,
   "id": "91b9b6a5",
   "metadata": {},
   "outputs": [
    {
     "name": "stdout",
     "output_type": "stream",
     "text": [
      "[2, 13, 3, 11, 5, 17, 7]\n",
      "[1, 1000]\n"
     ]
    }
   ],
   "source": [
    "def deckrevealed(deck):\n",
    "    deck.sort()\n",
    "    result = []\n",
    "\n",
    "    for card in reversed(deck):\n",
    "        if result:\n",
    "            result.insert(0, result.pop())\n",
    "        result.insert(0, card)\n",
    "\n",
    "    return result\n",
    "\n",
    "\n",
    "deck = [17, 13, 11, 2, 3, 5, 7]\n",
    "ordered_deck = deckrevealed(deck)\n",
    "print(ordered_deck)\n",
    "\n",
    "deck = [1, 1000]\n",
    "ordered_deck = deckrevealed(deck)\n",
    "print(ordered_deck)"
   ]
  },
  {
   "cell_type": "code",
   "execution_count": 22,
   "id": "849a3f1c",
   "metadata": {},
   "outputs": [
    {
     "name": "stdout",
     "output_type": "stream",
     "text": [
      "[None, None, None, None, None, None, None, None, 1, 3, 4, 2, -1]\n"
     ]
    }
   ],
   "source": [
    "import collections\n",
    "\n",
    "class FrontMiddleBackQueue(object):\n",
    "    def __init__(self):\n",
    "        self.A, self.B = collections.deque(), collections.deque()\n",
    "\n",
    "    def pushFront(self, val):\n",
    "        self.A.appendleft(val)\n",
    "        self.balance()\n",
    "\n",
    "    def pushMiddle(self, val):\n",
    "        if len(self.A) > len(self.B):\n",
    "            self.B.appendleft(self.A.pop())\n",
    "        self.A.append(val)\n",
    "\n",
    "    def pushBack(self, val):\n",
    "        self.B.append(val)\n",
    "        self.balance()\n",
    "\n",
    "    def popFront(self):\n",
    "        val = self.A.popleft() if self.A else -1\n",
    "        self.balance()\n",
    "        return val\n",
    "\n",
    "    def popMiddle(self):\n",
    "        val = (self.A or [-1]).pop()\n",
    "        self.balance()\n",
    "        return val\n",
    "\n",
    "    def popBack(self):\n",
    "        val = (self.B or self.A or [-1]).pop()\n",
    "        self.balance()\n",
    "        return val\n",
    "\n",
    "    def balance(self):\n",
    "        if len(self.A) > len(self.B) + 1:\n",
    "            self.B.appendleft(self.A.pop())\n",
    "        if len(self.A) < len(self.B):\n",
    "            self.A.append(self.B.popleft())\n",
    "\n",
    "q = FrontMiddleBackQueue()\n",
    "output = []\n",
    "\n",
    "output.append(None)\n",
    "q.pushFront(1)\n",
    "output.append(None)\n",
    "\n",
    "output.append(None)\n",
    "q.pushBack(2)\n",
    "output.append(None)\n",
    "\n",
    "output.append(None)\n",
    "q.pushMiddle(3)\n",
    "output.append(None)\n",
    "\n",
    "output.append(None)\n",
    "q.pushMiddle(4)\n",
    "output.append(None)\n",
    "\n",
    "output.append(q.popFront())\n",
    "output.append(q.popMiddle())\n",
    "output.append(q.popMiddle())\n",
    "output.append(q.popBack())\n",
    "output.append(q.popFront())\n",
    "\n",
    "print(output)\n"
   ]
  },
  {
   "cell_type": "code",
   "execution_count": 23,
   "id": "e59df33e",
   "metadata": {},
   "outputs": [
    {
     "name": "stdout",
     "output_type": "stream",
     "text": [
      "[None, False, False, True, False]\n"
     ]
    }
   ],
   "source": [
    "class DataStream:\n",
    "    def __init__(self, value: int, k: int):\n",
    "        self.v = value\n",
    "        self.k = k\n",
    "        self.n = 0\n",
    "\n",
    "    def consec(self, num: int) -> bool:\n",
    "        if num == self.v:\n",
    "            self.n += 1\n",
    "        else:\n",
    "            self.n = 0\n",
    "\n",
    "        return self.n >= self.k\n",
    "\n",
    "\n",
    "dataStream = DataStream(4, 3)\n",
    "output = []\n",
    "\n",
    "output.append(None)\n",
    "output.append(dataStream.consec(4))\n",
    "output.append(dataStream.consec(4))\n",
    "output.append(dataStream.consec(4))\n",
    "output.append(dataStream.consec(3))\n",
    "\n",
    "print(output)\n"
   ]
  },
  {
   "cell_type": "code",
   "execution_count": null,
   "id": "bd7178f5",
   "metadata": {},
   "outputs": [],
   "source": []
  }
 ],
 "metadata": {
  "kernelspec": {
   "display_name": "Python 3 (ipykernel)",
   "language": "python",
   "name": "python3"
  },
  "language_info": {
   "codemirror_mode": {
    "name": "ipython",
    "version": 3
   },
   "file_extension": ".py",
   "mimetype": "text/x-python",
   "name": "python",
   "nbconvert_exporter": "python",
   "pygments_lexer": "ipython3",
   "version": "3.9.12"
  }
 },
 "nbformat": 4,
 "nbformat_minor": 5
}
