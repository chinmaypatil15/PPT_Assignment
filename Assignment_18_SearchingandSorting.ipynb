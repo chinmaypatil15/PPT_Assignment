{
 "cells": [
  {
   "cell_type": "code",
   "execution_count": 2,
   "id": "837ff1a6",
   "metadata": {},
   "outputs": [
    {
     "name": "stdout",
     "output_type": "stream",
     "text": [
      "[[1, 6], [8, 10], [15, 18]]\n",
      "[[1, 5]]\n"
     ]
    }
   ],
   "source": [
    "def merge(intervals):\n",
    "    intervals.sort(key=lambda x: x[0])\n",
    "    merged = [intervals[0]]\n",
    "\n",
    "    for interval in intervals[1:]:\n",
    "        if interval[0] <= merged[-1][1]:\n",
    "            merged[-1][1] = max(merged[-1][1], interval[1])\n",
    "        else:\n",
    "            merged.append(interval)\n",
    "    return merged\n",
    "\n",
    "intervals1 = [[1, 3], [2, 6], [8, 10], [15, 18]]\n",
    "merged_intervals1 = merge(intervals1)\n",
    "print(merged_intervals1)\n",
    "\n",
    "intervals2 = [[1, 4], [4, 5]]\n",
    "merged_intervals2 = merge(intervals2)\n",
    "print(merged_intervals2)\n"
   ]
  },
  {
   "cell_type": "code",
   "execution_count": 3,
   "id": "b71c5a5a",
   "metadata": {},
   "outputs": [
    {
     "name": "stdout",
     "output_type": "stream",
     "text": [
      "[0, 0, 1, 1, 2, 2]\n",
      "[0, 1, 2]\n"
     ]
    }
   ],
   "source": [
    "def sort_colors(nums):\n",
    "    low = 0\n",
    "    mid = 0\n",
    "    high = len(nums) - 1\n",
    "    while mid <= high:\n",
    "        if nums[mid] == 0:\n",
    "            nums[low], nums[mid] = nums[mid], nums[low]\n",
    "            low += 1\n",
    "            mid += 1\n",
    "        elif nums[mid] == 1:\n",
    "            mid += 1\n",
    "        else:\n",
    "            nums[mid], nums[high] = nums[high], nums[mid]\n",
    "            high -= 1\n",
    "nums = [2, 0, 2, 1, 1, 0]\n",
    "sort_colors(nums)\n",
    "print(nums)\n",
    "\n",
    "nums = [2,0,1]\n",
    "sort_colors(nums)\n",
    "print(nums)\n",
    "\n"
   ]
  },
  {
   "cell_type": "code",
   "execution_count": 13,
   "id": "626d0fd0",
   "metadata": {},
   "outputs": [
    {
     "name": "stdout",
     "output_type": "stream",
     "text": [
      "5\n",
      "1\n"
     ]
    }
   ],
   "source": [
    "class Solution:\n",
    "    def firstBadVersion(self, n):\n",
    "        left = 1\n",
    "        right = n\n",
    "\n",
    "        while left < right:\n",
    "            mid = (left + right) >> 1\n",
    "            if isBadVersion(mid):\n",
    "                right = mid\n",
    "            else:\n",
    "                left = mid + 1\n",
    "        return left\n",
    "\n",
    "\n",
    "def isBadVersion(version):\n",
    "    pass\n",
    "\n",
    "n = 5\n",
    "bad = 4\n",
    "first_bad = first_bad_version(n)\n",
    "print(first_bad)\n",
    "\n",
    "n = 1\n",
    "bad = 1\n",
    "first_bad = first_bad_version(n)\n",
    "print(first_bad)"
   ]
  },
  {
   "cell_type": "code",
   "execution_count": 15,
   "id": "8efc3077",
   "metadata": {},
   "outputs": [
    {
     "name": "stdout",
     "output_type": "stream",
     "text": [
      "3\n",
      "0\n"
     ]
    }
   ],
   "source": [
    "def maxigap(nums):\n",
    "    if len(nums) < 2:\n",
    "        return 0\n",
    "\n",
    "    max_num = max(nums)\n",
    "\n",
    "    exp = 1\n",
    "    n = len(nums)\n",
    "    sorted_nums = [0] * n\n",
    "\n",
    "    while max_num // exp > 0:\n",
    "        count = [0] * 10\n",
    "\n",
    "        for num in nums:\n",
    "            digit = (num // exp) % 10\n",
    "            count[digit] += 1\n",
    "\n",
    "        for i in range(1, 10):\n",
    "            count[i] += count[i - 1]\n",
    "\n",
    "        for i in range(n - 1, -1, -1):\n",
    "            num = nums[i]\n",
    "            digit = (num // exp) % 10\n",
    "            count[digit] -= 1\n",
    "            sorted_nums[count[digit]] = num\n",
    "\n",
    "        nums = sorted_nums.copy()\n",
    "        exp *= 10\n",
    "\n",
    "    max_diff = 0\n",
    "    for i in range(1, n):\n",
    "        diff = nums[i] - nums[i - 1]\n",
    "        max_diff = max(max_diff, diff)\n",
    "\n",
    "    return max_diff\n",
    "\n",
    "\n",
    "nums = [3, 6, 9, 1]\n",
    "max_diff = maxigap(nums)\n",
    "print(max_diff)\n",
    "\n",
    "nums = [10]\n",
    "max_diff = maxigap(nums)\n",
    "print(max_diff)"
   ]
  },
  {
   "cell_type": "code",
   "execution_count": 16,
   "id": "d807a3a3",
   "metadata": {},
   "outputs": [
    {
     "name": "stdout",
     "output_type": "stream",
     "text": [
      "True\n",
      "False\n",
      "True\n"
     ]
    }
   ],
   "source": [
    "def duplicate(nums):\n",
    "    seen = set()\n",
    "\n",
    "    for num in nums:\n",
    "        if num in seen:\n",
    "            return True\n",
    "        seen.add(num)\n",
    "\n",
    "    return False\n",
    "\n",
    "nums = [1, 2, 3, 1]\n",
    "result = duplicate(nums)\n",
    "print(result)\n",
    "\n",
    "nums = [1, 2, 3, 4]\n",
    "result = duplicate(nums)\n",
    "print(result)\n",
    "\n",
    "nums = [1, 1, 1, 3, 3, 4, 3, 2, 4, 2]\n",
    "result = duplicate(nums)\n",
    "print(result)\n"
   ]
  },
  {
   "cell_type": "code",
   "execution_count": 17,
   "id": "89ba7444",
   "metadata": {},
   "outputs": [
    {
     "name": "stdout",
     "output_type": "stream",
     "text": [
      "2\n",
      "4\n",
      "2\n"
     ]
    }
   ],
   "source": [
    "def minarrows(points):\n",
    "    if not points:\n",
    "        return 0\n",
    "\n",
    "    points.sort(key=lambda x: x[1])\n",
    "\n",
    "    arrows = 1\n",
    "    end = points[0][1]\n",
    "\n",
    "    for i in range(1, len(points)):\n",
    "        if points[i][0] > end:\n",
    "            arrows += 1\n",
    "            end = points[i][1]\n",
    "\n",
    "    return arrows\n",
    "\n",
    "points = [[10, 16], [2, 8], [1, 6], [7, 12]]\n",
    "min_arrows = minarrows(points)\n",
    "print(min_arrows)\n",
    "\n",
    "points = [[1, 2], [3, 4], [5, 6], [7, 8]]\n",
    "min_arrows = minarrows(points)\n",
    "print(min_arrows)\n",
    "\n",
    "points = [[1, 2], [2, 3], [3, 4], [4, 5]]\n",
    "min_arrows = minarrows(points)\n",
    "print(min_arrows)\n"
   ]
  },
  {
   "cell_type": "code",
   "execution_count": 18,
   "id": "efabb79c",
   "metadata": {},
   "outputs": [
    {
     "name": "stdout",
     "output_type": "stream",
     "text": [
      "False\n",
      "True\n",
      "True\n"
     ]
    }
   ],
   "source": [
    "def find132pattern(nums):\n",
    "    stack = []\n",
    "    second_max = float('-inf')\n",
    "\n",
    "    for i in range(len(nums) - 1, -1, -1):\n",
    "        if nums[i] < second_max:\n",
    "            return True\n",
    "        while stack and nums[i] > stack[-1]:\n",
    "            second_max = stack.pop()\n",
    "        stack.append(nums[i])\n",
    "\n",
    "    return False\n",
    "\n",
    "nums = [1, 2, 3, 4]\n",
    "pattern_exists = find132pattern(nums)\n",
    "print(pattern_exists)\n",
    "\n",
    "nums = [3, 1, 4, 2]\n",
    "pattern_exists = find132pattern(nums)\n",
    "print(pattern_exists)\n",
    "\n",
    "nums = [-1, 3, 2, 0]\n",
    "pattern_exists = find132pattern(nums)\n",
    "print(pattern_exists)\n"
   ]
  },
  {
   "cell_type": "code",
   "execution_count": null,
   "id": "9651ff56",
   "metadata": {},
   "outputs": [],
   "source": []
  }
 ],
 "metadata": {
  "kernelspec": {
   "display_name": "Python 3 (ipykernel)",
   "language": "python",
   "name": "python3"
  },
  "language_info": {
   "codemirror_mode": {
    "name": "ipython",
    "version": 3
   },
   "file_extension": ".py",
   "mimetype": "text/x-python",
   "name": "python",
   "nbconvert_exporter": "python",
   "pygments_lexer": "ipython3",
   "version": "3.9.12"
  }
 },
 "nbformat": 4,
 "nbformat_minor": 5
}
