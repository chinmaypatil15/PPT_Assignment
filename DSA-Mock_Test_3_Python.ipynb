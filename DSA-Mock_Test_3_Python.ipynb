{
 "cells": [
  {
   "cell_type": "code",
   "execution_count": 2,
   "id": "b65ce103",
   "metadata": {},
   "outputs": [
    {
     "name": "stdout",
     "output_type": "stream",
     "text": [
      "15\n",
      "False\n",
      "10\n",
      "5\n",
      "True\n"
     ]
    }
   ],
   "source": [
    "#Ques1\n",
    "#Implement a stack using a list in Python.\n",
    "#Include the necessary methods such as push, pop, and isEmpty.\n",
    "\n",
    "class Stack:\n",
    "    def __init__(self):\n",
    "        self.stack = []\n",
    "\n",
    "    def push(self, item):\n",
    "        self.stack.append(item)\n",
    "\n",
    "    def pop(self):\n",
    "        if not self.isEmpty():\n",
    "            return self.stack.pop()\n",
    "        else:\n",
    "            raise IndexError(\"Stack is empty\")\n",
    "\n",
    "    def isEmpty(self):\n",
    "        return len(self.stack) == 0\n",
    "stack = Stack()\n",
    "stack.push(5)\n",
    "stack.push(10)\n",
    "stack.push(15)\n",
    "print(stack.pop())  \n",
    "print(stack.isEmpty())\n",
    "print(stack.pop())\n",
    "print(stack.pop())\n",
    "print(stack.isEmpty())\n"
   ]
  },
  {
   "cell_type": "code",
   "execution_count": 3,
   "id": "8deb6d02",
   "metadata": {},
   "outputs": [
    {
     "name": "stdout",
     "output_type": "stream",
     "text": [
      "5\n",
      "False\n",
      "10\n",
      "15\n",
      "True\n"
     ]
    }
   ],
   "source": [
    "#Ques2\n",
    "#Implement a queue using a list in Python.\n",
    "#Include the necessary methods such as enqueue, dequeue, and isEmpty.\n",
    "\n",
    "class Queue:\n",
    "    def __init__(self):\n",
    "        self.queue = []\n",
    "\n",
    "    def enqueue(self, item):\n",
    "        self.queue.append(item)\n",
    "\n",
    "    def dequeue(self):\n",
    "        if not self.isEmpty():\n",
    "            return self.queue.pop(0)\n",
    "        else:\n",
    "            raise IndexError(\"Queue is empty\")\n",
    "\n",
    "    def isEmpty(self):\n",
    "        return len(self.queue) == 0\n",
    "queue = Queue()\n",
    "queue.enqueue(5)\n",
    "queue.enqueue(10)\n",
    "queue.enqueue(15)\n",
    "print(queue.dequeue())\n",
    "print(queue.isEmpty())\n",
    "print(queue.dequeue())\n",
    "print(queue.dequeue())\n",
    "print(queue.isEmpty())"
   ]
  },
  {
   "cell_type": "code",
   "execution_count": null,
   "id": "71b4f22e",
   "metadata": {},
   "outputs": [],
   "source": []
  }
 ],
 "metadata": {
  "kernelspec": {
   "display_name": "Python 3 (ipykernel)",
   "language": "python",
   "name": "python3"
  },
  "language_info": {
   "codemirror_mode": {
    "name": "ipython",
    "version": 3
   },
   "file_extension": ".py",
   "mimetype": "text/x-python",
   "name": "python",
   "nbconvert_exporter": "python",
   "pygments_lexer": "ipython3",
   "version": "3.9.12"
  }
 },
 "nbformat": 4,
 "nbformat_minor": 5
}
