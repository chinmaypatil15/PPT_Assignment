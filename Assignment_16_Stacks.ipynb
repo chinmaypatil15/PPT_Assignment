{
 "cells": [
  {
   "cell_type": "code",
   "execution_count": 1,
   "id": "29e5f7de",
   "metadata": {},
   "outputs": [
    {
     "name": "stdout",
     "output_type": "stream",
     "text": [
      "[-1, -1, 1, 2, 2, 1, -1]\n",
      "[2, 2, 2, -1, -1, -1, -1, 3, -1, -1]\n"
     ]
    }
   ],
   "source": [
    "def findnearestfrequency(arr):\n",
    "    frequency_map = {}\n",
    "    stack = []\n",
    "    result = [-1] * len(arr)\n",
    "\n",
    "    for num in arr:\n",
    "        if num in frequency_map:\n",
    "            frequency_map[num] += 1\n",
    "        else:\n",
    "            frequency_map[num] = 1\n",
    "\n",
    "    for i in range(len(arr) - 1, -1, -1):\n",
    "        while stack and frequency_map[arr[i]] >= frequency_map[arr[stack[-1]]]:\n",
    "            stack.pop()\n",
    "        if stack:\n",
    "            result[i] = arr[stack[-1]]\n",
    "\n",
    "        stack.append(i)\n",
    "\n",
    "    return result\n",
    "\n",
    "arr1 = [1, 1, 2, 3, 4, 2, 1]\n",
    "print(findnearestfrequency(arr1))\n",
    "\n",
    "\n",
    "arr2 = [1, 1, 1, 2, 2, 2, 2, 11, 3, 3]\n",
    "print(findnearestfrequency(arr2))\n",
    "\n"
   ]
  },
  {
   "cell_type": "code",
   "execution_count": 2,
   "id": "e4edfb7e",
   "metadata": {},
   "outputs": [
    {
     "name": "stdout",
     "output_type": "stream",
     "text": [
      "[98, 92, 34, 31, 23, 3]\n",
      "[8, 5, 4, 3, 2, 1]\n"
     ]
    }
   ],
   "source": [
    "def sort_stack(stack):\n",
    "    temp_stack = []\n",
    "\n",
    "    while stack:\n",
    "        temp = stack.pop()\n",
    "\n",
    "        while temp_stack and temp_stack[-1] > temp:\n",
    "            stack.append(temp_stack.pop())\n",
    "\n",
    "        temp_stack.append(temp)\n",
    "\n",
    "    while temp_stack:\n",
    "        stack.append(temp_stack.pop())\n",
    "\n",
    "    return stack\n",
    "\n",
    "\n",
    "stack1 = [34, 3, 31, 98, 92, 23]\n",
    "print(sort_stack(stack1))\n",
    "\n",
    "\n",
    "stack2 = [3, 5, 1, 4, 2, 8]\n",
    "print(sort_stack(stack2))\n",
    "\n"
   ]
  },
  {
   "cell_type": "code",
   "execution_count": 4,
   "id": "39f3b713",
   "metadata": {},
   "outputs": [
    {
     "name": "stdout",
     "output_type": "stream",
     "text": [
      "[1, 2, 4, 5]\n",
      "[1, 2, 4, 5, 6]\n"
     ]
    }
   ],
   "source": [
    "def delmidelement(stack):\n",
    "    size = len(stack)\n",
    "    middle = size // 2\n",
    "    is_middle = False\n",
    "\n",
    "    if size == 0 or size == 1:\n",
    "        return stack\n",
    "\n",
    "    remove_middle(stack, middle)\n",
    "\n",
    "    return stack\n",
    "\n",
    "def remove_middle(stack, middle):\n",
    "    if middle == 0:\n",
    "        stack.pop()\n",
    "        return\n",
    "\n",
    "    temp = stack.pop()\n",
    "\n",
    "    remove_middle(stack, middle - 1)\n",
    "\n",
    "    stack.append(temp)\n",
    "\n",
    "\n",
    "stack1 = [1, 2, 3, 4, 5]\n",
    "print(delmidelement(stack1))\n",
    "\n",
    "\n",
    "stack2 = [1, 2, 3, 4, 5, 6]\n",
    "print(delmidelement(stack2))\n"
   ]
  },
  {
   "cell_type": "code",
   "execution_count": 5,
   "id": "9945adcf",
   "metadata": {},
   "outputs": [
    {
     "name": "stdout",
     "output_type": "stream",
     "text": [
      "Yes\n",
      "No\n"
     ]
    }
   ],
   "source": [
    "from queue import Queue\n",
    "\n",
    "\n",
    "def checkorder(queue):\n",
    "    stack = []\n",
    "    second_queue = Queue()\n",
    "    expected_number = 1\n",
    "\n",
    "    while not queue.empty():\n",
    "        front_element = queue.get()\n",
    "\n",
    "        if front_element == expected_number:\n",
    "            second_queue.put(front_element)\n",
    "            expected_number += 1\n",
    "        else:\n",
    "            if not stack or stack[-1] > front_element:\n",
    "                stack.append(front_element)\n",
    "            else:\n",
    "                return \"No\"\n",
    "\n",
    "    while stack:\n",
    "        if stack[-1] == expected_number:\n",
    "            second_queue.put(stack.pop())\n",
    "            expected_number += 1\n",
    "        else:\n",
    "            return \"No\"\n",
    "\n",
    "    return \"Yes\"\n",
    "\n",
    "queue1 = Queue()\n",
    "queue1.put(5)\n",
    "queue1.put(1)\n",
    "queue1.put(2)\n",
    "queue1.put(3)\n",
    "queue1.put(4)\n",
    "print(checkorder(queue1))\n",
    "\n",
    "\n",
    "queue2 = Queue()\n",
    "queue2.put(5)\n",
    "queue2.put(1)\n",
    "queue2.put(2)\n",
    "queue2.put(6)\n",
    "queue2.put(3)\n",
    "queue2.put(4)\n",
    "print(checkorder(queue2))\n",
    "\n"
   ]
  },
  {
   "cell_type": "code",
   "execution_count": 6,
   "id": "9c0a0956",
   "metadata": {},
   "outputs": [
    {
     "name": "stdout",
     "output_type": "stream",
     "text": [
      "563\n",
      "9986\n"
     ]
    }
   ],
   "source": [
    "def reverse_number(number):\n",
    "    number_str = str(number)\n",
    "    stack = []\n",
    "\n",
    "    for digit in number_str:\n",
    "        stack.append(digit)\n",
    "\n",
    "    reversed_number_str = \"\"\n",
    "\n",
    "    while stack:\n",
    "        reversed_number_str += stack.pop()\n",
    "\n",
    "    reversed_number = int(reversed_number_str)\n",
    "\n",
    "    return reversed_number\n",
    "\n",
    "# Example usage:\n",
    "\n",
    "number1 = 365\n",
    "print(reverse_number(number1))\n",
    "\n",
    "number2 = 6899\n",
    "print(reverse_number(number2))"
   ]
  },
  {
   "cell_type": "code",
   "execution_count": 7,
   "id": "1675dfc3",
   "metadata": {},
   "outputs": [
    {
     "name": "stdout",
     "output_type": "stream",
     "text": [
      "3\n",
      "0\n"
     ]
    }
   ],
   "source": [
    "def countwords(sequence):\n",
    "    words = sequence.split()\n",
    "    stack = []\n",
    "\n",
    "    for word in words:\n",
    "        if not stack:\n",
    "            stack.append(word)\n",
    "        elif word == stack[-1]:\n",
    "            stack.pop()\n",
    "        else:\n",
    "            stack.append(word)\n",
    "\n",
    "    return len(stack)\n",
    "\n",
    "sequence1 = \"ab aa aa bcd ab\"\n",
    "print(countwords(sequence1))\n",
    "\n",
    "sequence2 = \"tom jerry jerry tom\"\n",
    "print(countwords(sequence2))\n",
    "\n"
   ]
  },
  {
   "cell_type": "code",
   "execution_count": 8,
   "id": "978e169e",
   "metadata": {},
   "outputs": [
    {
     "name": "stdout",
     "output_type": "stream",
     "text": [
      "1\n",
      "4\n",
      "1\n"
     ]
    }
   ],
   "source": [
    "def maxdiff(arr):\n",
    "    n = len(arr)\n",
    "    leftStack = []\n",
    "    rightStack = []\n",
    "    LS = [0] * n\n",
    "    RS = [0] * n\n",
    "\n",
    "    for i in range(n):\n",
    "        while leftStack and leftStack[-1] >= arr[i]:\n",
    "            leftStack.pop()\n",
    "\n",
    "        if leftStack:\n",
    "            LS[i] = leftStack[-1]\n",
    "\n",
    "        leftStack.append(arr[i])\n",
    "\n",
    "    for i in range(n - 1, -1, -1):\n",
    "        while rightStack and rightStack[-1] >= arr[i]:\n",
    "            rightStack.pop()\n",
    "\n",
    "        if rightStack:\n",
    "            RS[i] = rightStack[-1]\n",
    "\n",
    "        rightStack.append(arr[i])\n",
    "\n",
    "    maxDiff = 0\n",
    "\n",
    "    for i in range(n):\n",
    "        diff = abs(LS[i] - RS[i])\n",
    "        maxDiff = max(maxDiff, diff)\n",
    "\n",
    "    return maxDiff\n",
    "\n",
    "\n",
    "arr1 = [2, 1, 8]\n",
    "print(maxdiff(arr1))\n",
    "\n",
    "\n",
    "arr2 = [2, 4, 8, 7, 7, 9, 3]\n",
    "print(maxdiff(arr2))\n",
    "\n",
    "\n",
    "arr3 = [5, 1, 9, 2, 5, 1, 7]\n",
    "print(maxdiff(arr3))\n",
    "\n"
   ]
  },
  {
   "cell_type": "code",
   "execution_count": null,
   "id": "0b55301c",
   "metadata": {},
   "outputs": [],
   "source": []
  }
 ],
 "metadata": {
  "kernelspec": {
   "display_name": "Python 3 (ipykernel)",
   "language": "python",
   "name": "python3"
  },
  "language_info": {
   "codemirror_mode": {
    "name": "ipython",
    "version": 3
   },
   "file_extension": ".py",
   "mimetype": "text/x-python",
   "name": "python",
   "nbconvert_exporter": "python",
   "pygments_lexer": "ipython3",
   "version": "3.9.12"
  }
 },
 "nbformat": 4,
 "nbformat_minor": 5
}
