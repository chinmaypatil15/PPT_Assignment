{
 "cells": [
  {
   "cell_type": "code",
   "execution_count": 8,
   "id": "4451ad5e",
   "metadata": {},
   "outputs": [
    {
     "name": "stdout",
     "output_type": "stream",
     "text": [
      "3\n",
      "58\n"
     ]
    }
   ],
   "source": [
    "roman = {'I':1,'V':5,'X':10,'L':50,'C':100,'D':500,'M':1000}\n",
    "\n",
    "class Solution:\n",
    "    def romantoint(self, S: str) -> int:\n",
    "        ans = 0\n",
    "        for i in range(len(S)-1,-1,-1):\n",
    "            num = roman[S[i]]\n",
    "            if 4 * num < ans: ans -= num\n",
    "            else: ans += num\n",
    "        return ans\n",
    "    \n",
    "sol = Solution()\n",
    "result = sol.romantoint(\"III\")\n",
    "print(result)\n",
    "\n",
    "sol = Solution()\n",
    "result = sol.romantoint(\"LVIII\")\n",
    "print(result)"
   ]
  },
  {
   "cell_type": "code",
   "execution_count": 1,
   "id": "e108d73f",
   "metadata": {},
   "outputs": [
    {
     "name": "stdout",
     "output_type": "stream",
     "text": [
      "The input string is abcabcbb\n",
      "The length of the longest non-repeating character substring 3\n"
     ]
    }
   ],
   "source": [
    "def longestSubstrDistinctChars(s):\n",
    "    if len(s) == 0:\n",
    "        return 0\n",
    "    n = len(s)\n",
    "    st = set()\n",
    "    leng = 1\n",
    "    st.add(s[0])\n",
    "    i = 1\n",
    "    maxLen = 0\n",
    "    while i < n:\n",
    "        if s[i] != s[i - 1] and s[i] not in st:\n",
    "            st.add(s[i])\n",
    "            leng += 1\n",
    "            i += 1\n",
    "            if leng > maxLen:\n",
    "                maxLen = leng\n",
    "        else:\n",
    "            if leng == 1:\n",
    "                i += 1\n",
    "            else:\n",
    "                st.clear()\n",
    "                i = i - leng + 1\n",
    "                leng = 0\n",
    "    return max(maxLen, leng)\n",
    " \n",
    "if __name__ == '__main__':\n",
    "    string = \"abcabcbb\"\n",
    "    print(\"The input string is \" + string)\n",
    "    leng = longestSubstrDistinctChars(string)\n",
    "    print(\"The length of the longest non-repeating character substring \" + str(leng))\n"
   ]
  },
  {
   "cell_type": "code",
   "execution_count": 2,
   "id": "f39b044d",
   "metadata": {},
   "outputs": [
    {
     "name": "stdout",
     "output_type": "stream",
     "text": [
      "The input string is bbbbb\n",
      "The length of the longest non-repeating character substring 1\n"
     ]
    }
   ],
   "source": [
    "if __name__ == '__main__':\n",
    "    string = \"bbbbb\"\n",
    "    print(\"The input string is \" + string)\n",
    "    leng = longestSubstrDistinctChars(string)\n",
    "    print(\"The length of the longest non-repeating character substring \" + str(leng))\n"
   ]
  },
  {
   "cell_type": "code",
   "execution_count": 3,
   "id": "afa1d49d",
   "metadata": {},
   "outputs": [
    {
     "name": "stdout",
     "output_type": "stream",
     "text": [
      "The input string is pwwkew\n",
      "The length of the longest non-repeating character substring 3\n"
     ]
    }
   ],
   "source": [
    "if __name__ == '__main__':\n",
    "    string = \"pwwkew\"\n",
    "    print(\"The input string is \" + string)\n",
    "    leng = longestSubstrDistinctChars(string)\n",
    "    print(\"The length of the longest non-repeating character substring \" + str(leng))\n"
   ]
  },
  {
   "cell_type": "code",
   "execution_count": 4,
   "id": "be6b8a1c",
   "metadata": {},
   "outputs": [
    {
     "name": "stdout",
     "output_type": "stream",
     "text": [
      "3\n"
     ]
    }
   ],
   "source": [
    "def findMajority(arr, n):\n",
    "  \n",
    "    maxCount = 0\n",
    "    index = -1\n",
    "    for i in range(n):\n",
    "  \n",
    "        count = 1\n",
    "        for j in range(i+1, n):\n",
    "  \n",
    "            if(arr[i] == arr[j]):\n",
    "                count += 1\n",
    "        if(count > maxCount):\n",
    "  \n",
    "            maxCount = count\n",
    "            index = i\n",
    "    if (maxCount > n//2):\n",
    "        print(arr[index])\n",
    "  \n",
    "    else:\n",
    "        print(\"No Majority Element\")\n",
    "\n",
    "if __name__ == \"__main__\":\n",
    "    arr = [3,2,3]\n",
    "    n = len(arr)\n",
    "    findMajority(arr, n)"
   ]
  },
  {
   "cell_type": "code",
   "execution_count": 5,
   "id": "80bfa6e1",
   "metadata": {},
   "outputs": [
    {
     "name": "stdout",
     "output_type": "stream",
     "text": [
      "2\n"
     ]
    }
   ],
   "source": [
    "if __name__ == \"__main__\":\n",
    "    arr = [2,2,1,1,1,2,2]\n",
    "    n = len(arr)\n",
    "    findMajority(arr, n)"
   ]
  },
  {
   "cell_type": "code",
   "execution_count": 6,
   "id": "ed145f55",
   "metadata": {},
   "outputs": [
    {
     "name": "stdout",
     "output_type": "stream",
     "text": [
      "[['eat', 'tea', 'ate'], ['tan', 'nat'], ['bat']]\n",
      "[['']]\n",
      "[['a']]\n"
     ]
    }
   ],
   "source": [
    "from collections import defaultdict\n",
    "\n",
    "class Solution:\n",
    "    def groupAnagrams(self, strs):\n",
    "        answer = defaultdict(list)\n",
    "        for word in strs:\n",
    "            answer[\"\".join(sorted(word))].append(word)\n",
    "        return list(answer.values())\n",
    "\n",
    "sol = Solution()\n",
    "result = sol.groupAnagrams([\"eat\",\"tea\",\"tan\",\"ate\",\"nat\",\"bat\"])\n",
    "print(result)\n",
    "\n",
    "sol = Solution()\n",
    "result = sol.groupAnagrams([\"\"])\n",
    "print(result)\n",
    "\n",
    "sol = Solution()\n",
    "result = sol.groupAnagrams([\"a\"])\n",
    "print(result)"
   ]
  },
  {
   "cell_type": "code",
   "execution_count": 8,
   "id": "43cb9d98",
   "metadata": {},
   "outputs": [
    {
     "name": "stdout",
     "output_type": "stream",
     "text": [
      "150th ugly no. is  12\n",
      "150th ugly no. is  1\n"
     ]
    }
   ],
   "source": [
    "def maxDivide(a, b):\n",
    "    while a % b == 0:\n",
    "        a = a / b\n",
    "    return a\n",
    "\n",
    "def isUgly(no):\n",
    "    no = maxDivide(no, 2)\n",
    "    no = maxDivide(no, 3)\n",
    "    no = maxDivide(no, 5)\n",
    "    return 1 if no == 1 else 0\n",
    "\n",
    "def getNthUglyNo(n):\n",
    "    i = 1\n",
    "    count = 1\n",
    "    while n > count:\n",
    "        i += 1\n",
    "        if isUgly(i):\n",
    "            count += 1\n",
    "    return i\n",
    "\n",
    "no = getNthUglyNo(10)\n",
    "print(\"150th ugly no. is \", no)\n",
    "\n",
    "no = getNthUglyNo(1)\n",
    "print(\"150th ugly no. is \", no)"
   ]
  },
  {
   "cell_type": "code",
   "execution_count": 9,
   "id": "721a3275",
   "metadata": {},
   "outputs": [
    {
     "name": "stdout",
     "output_type": "stream",
     "text": [
      "['i', 'love']\n",
      "['the', 'is', 'sunny', 'day']\n"
     ]
    }
   ],
   "source": [
    "from collections import Counter\n",
    "\n",
    "class Solution:\n",
    "    def topKFrequent(self, words, k):\n",
    "        c = sorted(Counter(words).items(), key=lambda x: (-x[1], x[0]))\n",
    "        return [w for w, n in c[:k]]\n",
    "\n",
    "sol = Solution()\n",
    "result = sol.topKFrequent([\"i\",\"love\",\"leetcode\",\"i\",\"love\",\"coding\"], 2)\n",
    "print(result)\n",
    "\n",
    "result = sol.topKFrequent([\"the\",\"day\",\"is\",\"sunny\",\"the\",\"the\",\"the\",\"sunny\",\"is\",\"is\"], 4)\n",
    "print(result)\n"
   ]
  },
  {
   "cell_type": "code",
   "execution_count": 11,
   "id": "1b32271a",
   "metadata": {},
   "outputs": [
    {
     "name": "stdout",
     "output_type": "stream",
     "text": [
      "[3, 3, 5, 5, 6, 7]\n",
      "[1]\n"
     ]
    }
   ],
   "source": [
    "from collections import deque\n",
    "\n",
    "class Solution:\n",
    "    def maxSlidingWindow(self, nums, k):\n",
    "        q, res = deque(), []\n",
    "        for r in range(len(nums)):\n",
    "            while q and nums[q[-1]] < nums[r]:\n",
    "                q.pop()\n",
    "            q.append(r)\n",
    "            if r+1 < k: continue\n",
    "            if q[0] < r+1-k:\n",
    "                q.popleft()\n",
    "            res.append(nums[q[0]])\n",
    "\n",
    "        return res\n",
    "\n",
    "sol = Solution()\n",
    "result = sol.maxSlidingWindow([1, 3, -1, -3, 5, 3, 6, 7], 3)\n",
    "print(result)\n",
    "\n",
    "result = sol.maxSlidingWindow([1], 1)\n",
    "print(result)\n"
   ]
  },
  {
   "cell_type": "code",
   "execution_count": 19,
   "id": "e8acf697",
   "metadata": {},
   "outputs": [
    {
     "name": "stdout",
     "output_type": "stream",
     "text": [
      "4 2 5 1 "
     ]
    }
   ],
   "source": [
    "def findCrossOver(arr, low, high, x) :\n",
    "    if (arr[high] <= x) :\n",
    "        return high\n",
    "         \n",
    "    if (arr[low] > x) :\n",
    "        return low\n",
    "\n",
    "    mid = (low + high) // 2\n",
    "\n",
    "    if (arr[mid] <= x and arr[mid + 1] > x) :\n",
    "        return mid\n",
    "    if(arr[mid] < x) :\n",
    "        return findCrossOver(arr, mid + 1, high, x)\n",
    "     \n",
    "    return findCrossOver(arr, low, mid - 1, x)\n",
    "def printKclosest(arr, x, k, n) :\n",
    "\n",
    "    l = findCrossOver(arr, 0, n - 1, x)\n",
    "    r = l + 1\n",
    "    count = 0 \n",
    "    if (arr[l] == x) :\n",
    "        l -= 1\n",
    "    while (l >= 0 and r < n and count < k) :\n",
    "         \n",
    "        if (x - arr[l] < arr[r] - x) :\n",
    "            print(arr[l], end = \" \")\n",
    "            l -= 1\n",
    "        else :\n",
    "            print(arr[r], end = \" \")\n",
    "            r += 1\n",
    "        count += 1\n",
    "\n",
    "    while (count < k and l >= 0) :\n",
    "        print(arr[l], end = \" \")\n",
    "        l -= 1\n",
    "        count += 1\n",
    "    while (count < k and r < n) :\n",
    "        print(arr[r], end = \" \")\n",
    "        r += 1\n",
    "        count += 1\n",
    "\n",
    "if __name__ == \"__main__\" :\n",
    " \n",
    "    arr =[1,2,3,4,5]\n",
    "                 \n",
    "    n = len(arr)\n",
    "    x = 3\n",
    "    k = 4\n",
    "     \n",
    "    printKclosest(arr, x, 4, n)\n",
    "    \n"
   ]
  },
  {
   "cell_type": "code",
   "execution_count": 18,
   "id": "6d8b15d8",
   "metadata": {},
   "outputs": [
    {
     "name": "stdout",
     "output_type": "stream",
     "text": [
      "1 2 3 4 "
     ]
    }
   ],
   "source": [
    "if __name__ == \"__main__\" :\n",
    " \n",
    "    arr =[1,2,3,4,5]\n",
    "                 \n",
    "    n = len(arr)\n",
    "    x = -1\n",
    "    k = 4\n",
    "     \n",
    "    printKclosest(arr, x, 4, n)"
   ]
  },
  {
   "cell_type": "code",
   "execution_count": null,
   "id": "7c2e1d4f",
   "metadata": {},
   "outputs": [],
   "source": []
  }
 ],
 "metadata": {
  "kernelspec": {
   "display_name": "Python 3 (ipykernel)",
   "language": "python",
   "name": "python3"
  },
  "language_info": {
   "codemirror_mode": {
    "name": "ipython",
    "version": 3
   },
   "file_extension": ".py",
   "mimetype": "text/x-python",
   "name": "python",
   "nbconvert_exporter": "python",
   "pygments_lexer": "ipython3",
   "version": "3.9.12"
  }
 },
 "nbformat": 4,
 "nbformat_minor": 5
}
