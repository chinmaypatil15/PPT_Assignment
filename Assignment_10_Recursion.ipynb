{
 "cells": [
  {
   "cell_type": "code",
   "execution_count": 7,
   "id": "894918d6",
   "metadata": {},
   "outputs": [
    {
     "name": "stdout",
     "output_type": "stream",
     "text": [
      "True\n",
      "False\n",
      "False\n"
     ]
    }
   ],
   "source": [
    "def powerof3(n):\n",
    "    if n <= 0:\n",
    "        return False\n",
    "    while n % 3 == 0:\n",
    "        n //= 3\n",
    "    return n == 1\n",
    "\n",
    "# Example usage\n",
    "print(powerof3(27))\n",
    "print(powerof3(0))\n",
    "print(powerof3(-1))\n"
   ]
  },
  {
   "cell_type": "code",
   "execution_count": 8,
   "id": "c1c56259",
   "metadata": {},
   "outputs": [
    {
     "name": "stdout",
     "output_type": "stream",
     "text": [
      "6\n",
      "1\n"
     ]
    }
   ],
   "source": [
    "def last_remaining(n):\n",
    "    left_to_right = True\n",
    "    remaining = n\n",
    "    step = 1\n",
    "    head = 1\n",
    "    \n",
    "    while remaining > 1:\n",
    "        if left_to_right or remaining % 2 == 1:\n",
    "            head += step\n",
    "        \n",
    "        remaining //= 2\n",
    "        step *= 2\n",
    "        left_to_right = not left_to_right\n",
    "    \n",
    "    return head\n",
    "\n",
    "# Example usage\n",
    "print(last_remaining(9))\n",
    "print(last_remaining(1))\n"
   ]
  },
  {
   "cell_type": "code",
   "execution_count": 4,
   "id": "bf7f5348",
   "metadata": {},
   "outputs": [
    {
     "name": "stdout",
     "output_type": "stream",
     "text": [
      "\n",
      "c\n",
      "b\n",
      "bc\n",
      "a\n",
      "ac\n",
      "ab\n",
      "abc\n",
      "\n",
      "d\n",
      "c\n",
      "cd\n",
      "b\n",
      "bd\n",
      "bc\n",
      "bcd\n",
      "a\n",
      "ad\n",
      "ac\n",
      "acd\n",
      "ab\n",
      "abd\n",
      "abc\n",
      "abcd\n"
     ]
    }
   ],
   "source": [
    "def print_subsets(set_str):\n",
    "    subset_helper(set_str, \"\", 0)\n",
    "\n",
    "def subset_helper(set_str, current_subset, index):\n",
    "    if index == len(set_str):\n",
    "        print(current_subset)\n",
    "        return\n",
    "# Exclude the current element\n",
    "    subset_helper(set_str, current_subset, index + 1)\n",
    "    \n",
    "# Include the current element\n",
    "    subset_helper(set_str, current_subset + set_str[index], index + 1)\n",
    "\n",
    "# Example usage\n",
    "print_subsets(\"abc\")\n",
    "print_subsets(\"abcd\")\n"
   ]
  },
  {
   "cell_type": "code",
   "execution_count": 5,
   "id": "3e8d20be",
   "metadata": {},
   "outputs": [
    {
     "name": "stdout",
     "output_type": "stream",
     "text": [
      "4\n",
      "13\n"
     ]
    }
   ],
   "source": [
    "def string_length(string):\n",
    "    if string == \"\":\n",
    "        return 0\n",
    "    return 1 + string_length(string[1:])\n",
    "\n",
    "# Example usage\n",
    "print(string_length(\"abcd\"))\n",
    "print(string_length(\"GEEKSFORGEEKS\"))\n"
   ]
  },
  {
   "cell_type": "code",
   "execution_count": 6,
   "id": "ef871ad2",
   "metadata": {},
   "outputs": [
    {
     "name": "stdout",
     "output_type": "stream",
     "text": [
      "5\n",
      "4\n"
     ]
    }
   ],
   "source": [
    "def count_contiguous_substrings(string):\n",
    "    count = 0\n",
    "    n = len(string)\n",
    "    for i in range(n):\n",
    "        count += 1\n",
    "        j = i - 1\n",
    "        k = i + 1\n",
    "        while j >= 0 and k < n and string[j] == string[k]:\n",
    "            count += 1\n",
    "            j -= 1\n",
    "            k += 1\n",
    "    return count\n",
    "\n",
    "print(count_contiguous_substrings(\"abcab\"))\n",
    "print(count_contiguous_substrings(\"aba\"))\n"
   ]
  },
  {
   "cell_type": "code",
   "execution_count": 9,
   "id": "6cfd9f27",
   "metadata": {},
   "outputs": [
    {
     "name": "stdout",
     "output_type": "stream",
     "text": [
      "move disk 1 from rod 1 to rod 2\n",
      "move disk 2 from rod 1 to rod 3\n",
      "move disk 1 from rod 2 to rod 3\n",
      "3\n"
     ]
    }
   ],
   "source": [
    "def tower_of_hanoi(n, source, destination, auxiliary):\n",
    "    if n == 1:\n",
    "        print(\"move disk 1 from rod\", source, \"to rod\", destination)\n",
    "        return 1\n",
    "    moves = 0  \n",
    "    moves += tower_of_hanoi(n-1, source, auxiliary, destination)\n",
    "    print(\"move disk\", n, \"from rod\", source, \"to rod\", destination)\n",
    "    moves += 1\n",
    "    moves += tower_of_hanoi(n-1, auxiliary, destination, source)\n",
    "    return moves\n",
    "\n",
    "N = 2\n",
    "total_moves = tower_of_hanoi(N, 1, 3, 2)\n",
    "print(total_moves)\n"
   ]
  },
  {
   "cell_type": "code",
   "execution_count": 10,
   "id": "eb97a75d",
   "metadata": {},
   "outputs": [
    {
     "name": "stdout",
     "output_type": "stream",
     "text": [
      "cd dc\n"
     ]
    }
   ],
   "source": [
    "def permutations(str):\n",
    "    str_list = list(str)\n",
    "    n = len(str_list)\n",
    "    if n == 1:\n",
    "        return [str_list[0]]\n",
    "    result = []\n",
    "\n",
    "    for i in range(n):\n",
    "        first_char = str_list[i]\n",
    "\n",
    "        remaining_chars = str_list[:i] + str_list[i+1:]\n",
    "        remaining_permutations = permutations(''.join(remaining_chars))\n",
    "        for perm in remaining_permutations:\n",
    "            result.append(first_char + perm)\n",
    "    \n",
    "    return result\n",
    "\n",
    "str = \"cd\"\n",
    "result = permutations(str)\n",
    "print(*result)\n"
   ]
  },
  {
   "cell_type": "code",
   "execution_count": 13,
   "id": "cfde0de8",
   "metadata": {},
   "outputs": [
    {
     "name": "stdout",
     "output_type": "stream",
     "text": [
      "3\n",
      "12\n"
     ]
    }
   ],
   "source": [
    "def count(string):\n",
    "    consonants = \"bcdfghjklmnpqrstvwxyzBCDFGHJKLMNPQRSTVWXYZ\"\n",
    "    count = 0\n",
    "    \n",
    "    for char in string:\n",
    "        if char in consonants:\n",
    "            count += 1\n",
    "    \n",
    "    return count\n",
    "\n",
    "string = \"abc de\"\n",
    "result = count(string)\n",
    "print(result)\n",
    "\n",
    "string = \"geeksforgeeks portal\"\n",
    "result = count(string)\n",
    "print(result)"
   ]
  },
  {
   "cell_type": "code",
   "execution_count": null,
   "id": "22a8b8c4",
   "metadata": {},
   "outputs": [],
   "source": []
  }
 ],
 "metadata": {
  "kernelspec": {
   "display_name": "Python 3 (ipykernel)",
   "language": "python",
   "name": "python3"
  },
  "language_info": {
   "codemirror_mode": {
    "name": "ipython",
    "version": 3
   },
   "file_extension": ".py",
   "mimetype": "text/x-python",
   "name": "python",
   "nbconvert_exporter": "python",
   "pygments_lexer": "ipython3",
   "version": "3.9.12"
  }
 },
 "nbformat": 4,
 "nbformat_minor": 5
}
