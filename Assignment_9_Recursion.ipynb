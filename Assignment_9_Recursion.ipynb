{
 "cells": [
  {
   "cell_type": "code",
   "execution_count": 1,
   "id": "55544ed9",
   "metadata": {},
   "outputs": [
    {
     "name": "stdout",
     "output_type": "stream",
     "text": [
      "True\n",
      "True\n",
      "False\n"
     ]
    }
   ],
   "source": [
    "def isPowerOfTwo(n):\n",
    "    if n <= 0:\n",
    "        return False\n",
    "    while n > 1:\n",
    "        if n % 2 != 0:\n",
    "            return False\n",
    "        n //= 2\n",
    "    return n == 1\n",
    "n = 1\n",
    "print(isPowerOfTwo(n))\n",
    "\n",
    "n = 16\n",
    "print(isPowerOfTwo(n))\n",
    "\n",
    "n = 3\n",
    "print(isPowerOfTwo(n))\n"
   ]
  },
  {
   "cell_type": "code",
   "execution_count": 2,
   "id": "1d108fca",
   "metadata": {},
   "outputs": [
    {
     "name": "stdout",
     "output_type": "stream",
     "text": [
      "6\n",
      "15\n"
     ]
    }
   ],
   "source": [
    "def sumofnumbers(n):\n",
    "    return (n * (n + 1)) // 2\n",
    "n = 3\n",
    "print(sumofnumbers(n))\n",
    "\n",
    "n = 5\n",
    "print(sumofnumbers(n))\n"
   ]
  },
  {
   "cell_type": "code",
   "execution_count": 3,
   "id": "21e2e460",
   "metadata": {},
   "outputs": [
    {
     "name": "stdout",
     "output_type": "stream",
     "text": [
      "120\n",
      "24\n"
     ]
    }
   ],
   "source": [
    "def factorial(N):\n",
    "    if N == 0 or N == 1:\n",
    "        return 1\n",
    "    else:\n",
    "        return N * factorial(N - 1)\n",
    "N = 5\n",
    "print(factorial(N))  # Output: 120\n",
    "\n",
    "N = 4\n",
    "print(factorial(N))  # Output: 24\n"
   ]
  },
  {
   "cell_type": "code",
   "execution_count": 4,
   "id": "8aad9a86",
   "metadata": {},
   "outputs": [
    {
     "name": "stdout",
     "output_type": "stream",
     "text": [
      "25\n",
      "32\n"
     ]
    }
   ],
   "source": [
    "N = 5\n",
    "P = 2\n",
    "result = pow(N, P)\n",
    "print(result)\n",
    "N = 2\n",
    "P = 5\n",
    "result = pow(N, P)\n",
    "print(result)"
   ]
  },
  {
   "cell_type": "code",
   "execution_count": 5,
   "id": "dd23c7f8",
   "metadata": {},
   "outputs": [
    {
     "name": "stdout",
     "output_type": "stream",
     "text": [
      "8\n",
      "45\n"
     ]
    }
   ],
   "source": [
    "def find_max(arr):\n",
    "    if len(arr) == 1:\n",
    "        return arr[0]\n",
    "    else:\n",
    "        max_rest = find_max(arr[1:])\n",
    "        return max(arr[0], max_rest)\n",
    "\n",
    "arr = [1, 4, 3, -5, -4, 8, 6]\n",
    "max_value = find_max(arr)\n",
    "print(max_value)\n",
    "\n",
    "arr = [1, 4, 45, 6, 10, -8]\n",
    "max_value = find_max(arr)\n",
    "print(max_value)\n"
   ]
  },
  {
   "cell_type": "code",
   "execution_count": 6,
   "id": "3b707f21",
   "metadata": {},
   "outputs": [
    {
     "name": "stdout",
     "output_type": "stream",
     "text": [
      "6\n",
      "23\n"
     ]
    }
   ],
   "source": [
    "def find_nth_term(a, d, N):\n",
    "    nth_term = a + (N - 1) * d\n",
    "    return nth_term\n",
    "\n",
    "# Example usage\n",
    "a = 2\n",
    "d = 1\n",
    "N = 5\n",
    "nth_term = find_nth_term(a, d, N)\n",
    "print(nth_term)\n",
    "\n",
    "a = 5\n",
    "d = 2\n",
    "N = 10\n",
    "nth_term = find_nth_term(a, d, N)\n",
    "print(nth_term)\n"
   ]
  },
  {
   "cell_type": "code",
   "execution_count": 7,
   "id": "a7f039f4",
   "metadata": {},
   "outputs": [
    {
     "name": "stdout",
     "output_type": "stream",
     "text": [
      "['ABC', 'ACB', 'BAC', 'BCA', 'CBA', 'CAB']\n",
      "['XY', 'YX']\n"
     ]
    }
   ],
   "source": [
    "def permute_string(string):\n",
    "\n",
    "    chars = list(string)\n",
    "    permutations = []\n",
    "\n",
    "    def permute(chars, start, end):\n",
    "        if start == end:\n",
    "            permutations.append(''.join(chars))\n",
    "        else:\n",
    "            for i in range(start, end + 1):\n",
    "                chars[start], chars[i] = chars[i], chars[start]\n",
    "                permute(chars, start + 1, end)\n",
    "                chars[start], chars[i] = chars[i], chars[start]\n",
    "    permute(chars, 0, len(chars) - 1)\n",
    "    return permutations\n",
    "\n",
    "S = \"ABC\"\n",
    "permutations = permute_string(S)\n",
    "print(permutations)\n",
    "\n",
    "S = \"XY\"\n",
    "permutations = permute_string(S)\n",
    "print(permutations)\n"
   ]
  },
  {
   "cell_type": "code",
   "execution_count": 8,
   "id": "7d70cd6b",
   "metadata": {},
   "outputs": [
    {
     "name": "stdout",
     "output_type": "stream",
     "text": [
      "120\n",
      "18\n"
     ]
    }
   ],
   "source": [
    "def product_of_array(arr):\n",
    "    product = 1\n",
    "\n",
    "    for num in arr:\n",
    "        product *= num\n",
    "    return product\n",
    "\n",
    "# Example usage\n",
    "arr = [1, 2, 3, 4, 5]\n",
    "result = product_of_array(arr)\n",
    "print(result)\n",
    "\n",
    "arr = [1, 6, 3]\n",
    "result = product_of_array(arr)\n",
    "print(result)"
   ]
  },
  {
   "cell_type": "code",
   "execution_count": null,
   "id": "9b76b872",
   "metadata": {},
   "outputs": [],
   "source": []
  }
 ],
 "metadata": {
  "kernelspec": {
   "display_name": "Python 3 (ipykernel)",
   "language": "python",
   "name": "python3"
  },
  "language_info": {
   "codemirror_mode": {
    "name": "ipython",
    "version": 3
   },
   "file_extension": ".py",
   "mimetype": "text/x-python",
   "name": "python",
   "nbconvert_exporter": "python",
   "pygments_lexer": "ipython3",
   "version": "3.9.12"
  }
 },
 "nbformat": 4,
 "nbformat_minor": 5
}
