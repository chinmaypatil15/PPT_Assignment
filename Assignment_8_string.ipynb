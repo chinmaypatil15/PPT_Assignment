{
 "cells": [
  {
   "cell_type": "code",
   "execution_count": 3,
   "id": "420610cf",
   "metadata": {},
   "outputs": [
    {
     "name": "stdout",
     "output_type": "stream",
     "text": [
      "231\n"
     ]
    }
   ],
   "source": [
    "def minisum(s1, s2):\n",
    "    m, n = len(s1), len(s2)\n",
    "    dp = [[0] * (n + 1) for _ in range(m + 1)]\n",
    "    for i in range(m - 1, -1, -1):\n",
    "        dp[i][n] = dp[i + 1][n] + ord(s1[i])\n",
    "    for j in range(n - 1, -1, -1):\n",
    "        dp[m][j] = dp[m][j + 1] + ord(s2[j])\n",
    "    for i in range(m - 1, -1, -1):\n",
    "        for j in range(n - 1, -1, -1):\n",
    "            if s1[i] == s2[j]:\n",
    "                dp[i][j] = dp[i + 1][j + 1]\n",
    "            else:\n",
    "                dp[i][j] = min(ord(s1[i]) + dp[i + 1][j], ord(s2[j]) + dp[i][j + 1])\n",
    "    return dp[0][0]\n",
    "s1 = \"sea\"\n",
    "s2 = \"eat\"\n",
    "result = minisum(s1, s2)\n",
    "print(result)\n"
   ]
  },
  {
   "cell_type": "code",
   "execution_count": 4,
   "id": "9e61aba5",
   "metadata": {},
   "outputs": [
    {
     "name": "stdout",
     "output_type": "stream",
     "text": [
      "True\n"
     ]
    }
   ],
   "source": [
    "def isValid(s):\n",
    "    stack = []\n",
    "    asterisks = []\n",
    "    for char in s:\n",
    "        if char == '(':\n",
    "            stack.append(char)\n",
    "            asterisks.append(len(stack) - 1)\n",
    "        elif char == ')':\n",
    "            if stack:\n",
    "                stack.pop()\n",
    "                if asterisks and asterisks[-1] == len(stack):\n",
    "                    asterisks.pop()\n",
    "            elif asterisks:\n",
    "                asterisks.pop()\n",
    "            else:\n",
    "                return False\n",
    "        elif char == '*':\n",
    "            stack.append(char)\n",
    "            asterisks.append(len(stack) - 1)\n",
    "    while stack and asterisks:\n",
    "        if stack.pop() == '*' and asterisks.pop() < len(stack):\n",
    "            return False\n",
    "    return len(stack) == 0\n",
    "s = \"()\"\n",
    "result = isValid(s)\n",
    "print(result)\n"
   ]
  },
  {
   "cell_type": "code",
   "execution_count": 5,
   "id": "19612406",
   "metadata": {},
   "outputs": [
    {
     "name": "stdout",
     "output_type": "stream",
     "text": [
      "2\n"
     ]
    }
   ],
   "source": [
    "def minSteps(word1, word2):\n",
    "    m = len(word1)\n",
    "    n = len(word2)\n",
    "    dp = [[0] * (n + 1) for _ in range(m + 1)]\n",
    "    for i in range(1, m + 1):\n",
    "        for j in range(1, n + 1):\n",
    "            if word1[i - 1] == word2[j - 1]:\n",
    "                dp[i][j] = dp[i - 1][j - 1] + 1\n",
    "            else:\n",
    "                dp[i][j] = max(dp[i - 1][j], dp[i][j - 1])\n",
    "    lcs_length = dp[m][n]\n",
    "    steps = (m - lcs_length) + (n - lcs_length)\n",
    "    return steps\n",
    "word1 = \"sea\"\n",
    "word2 = \"eat\"\n",
    "result = minSteps(word1, word2)\n",
    "print(result)\n"
   ]
  },
  {
   "cell_type": "code",
   "execution_count": 6,
   "id": "7eec95e2",
   "metadata": {},
   "outputs": [],
   "source": [
    "class TreeNode:\n",
    "    def __init__(self, val=0, left=None, right=None):\n",
    "        self.val = val\n",
    "        self.left = left\n",
    "        self.right = right\n",
    "\n",
    "def str2tree(s):\n",
    "    if not s:\n",
    "        return None\n",
    "    idx = s.find('(')\n",
    "\n",
    "    if idx == -1:\n",
    "        return TreeNode(int(s))\n",
    "    val = int(s[:idx])\n",
    "    count = 0\n",
    "    for i in range(idx, len(s)):\n",
    "        if s[i] == '(':\n",
    "            count += 1\n",
    "        elif s[i] == ')':\n",
    "            count -= 1\n",
    "        if count == 0:\n",
    "            left_end = i\n",
    "            break\n",
    "    left = str2tree(s[idx+1:left_end])\n",
    "    right = str2tree(s[left_end+2:-1])\n",
    "    root = TreeNode(val)\n",
    "    root.left = left\n",
    "    root.right = right\n",
    "    return root\n",
    "s = \"4(2(3)(1))(6(5))\"\n",
    "root = str2tree(s)\n"
   ]
  },
  {
   "cell_type": "code",
   "execution_count": 8,
   "id": "cd40e904",
   "metadata": {},
   "outputs": [
    {
     "name": "stdout",
     "output_type": "stream",
     "text": [
      "3\n",
      "4\n",
      "9\n",
      "58\n",
      "1994\n"
     ]
    }
   ],
   "source": [
    "def RomtoInt(s):\n",
    "    roman_values = {'I': 1, 'V': 5, 'X': 10, 'L': 50, 'C': 100, 'D': 500, 'M': 1000}\n",
    "    result = 0\n",
    "    prev_value = 0\n",
    "    for c in s:\n",
    "        value = roman_values[c]\n",
    "        if value > prev_value:\n",
    "            result += value - 2 * prev_value\n",
    "        else:\n",
    "            result += value\n",
    "        prev_value = value\n",
    "    return result\n",
    "\n",
    "s = \"III\"\n",
    "print(RomtoInt(s))\n",
    "s = \"IV\"\n",
    "print(RomtoInt(s))\n",
    "s = \"IX\"\n",
    "print(RomtoInt(s))\n",
    "s = \"LVIII\"\n",
    "print(RomtoInt(s))\n",
    "s = \"MCMXCIV\"\n",
    "print(RomtoInt(s))"
   ]
  },
  {
   "cell_type": "code",
   "execution_count": 9,
   "id": "f5744158",
   "metadata": {},
   "outputs": [
    {
     "name": "stdout",
     "output_type": "stream",
     "text": [
      "6\n",
      "['a', '2', 'b', '2', 'c', '3']\n"
     ]
    }
   ],
   "source": [
    "def compress(chars):\n",
    "    # Initialize pointers and count\n",
    "    read_ptr = 0\n",
    "    write_ptr = 0\n",
    "    count = 1\n",
    "\n",
    "    for i in range(1, len(chars) + 1):\n",
    "        if i < len(chars) and chars[i] == chars[i - 1]:\n",
    "            count += 1\n",
    "        else:\n",
    "            chars[write_ptr] = chars[read_ptr]\n",
    "            write_ptr += 1\n",
    "            if count > 1:\n",
    "                count_str = str(count)\n",
    "                for j in range(len(count_str)):\n",
    "                    chars[write_ptr] = count_str[j]\n",
    "                    write_ptr += 1\n",
    "            count = 1\n",
    "            read_ptr = i\n",
    "    return write_ptr\n",
    "chars = [\"a\", \"a\", \"b\", \"b\", \"c\", \"c\", \"c\"]\n",
    "length = compress(chars)\n",
    "print(length)\n",
    "print(chars[:length])\n"
   ]
  },
  {
   "cell_type": "code",
   "execution_count": 10,
   "id": "3a8fd97b",
   "metadata": {},
   "outputs": [
    {
     "name": "stdout",
     "output_type": "stream",
     "text": [
      "[0, 6]\n"
     ]
    }
   ],
   "source": [
    "from collections import Counter\n",
    "def findAnagrams(s, p):\n",
    "    result = []\n",
    "    p_freq = Counter(p)\n",
    "    window_freq = Counter(s[:len(p)])\n",
    "    if window_freq == p_freq:\n",
    "        result.append(0)\n",
    "    for i in range(len(p), len(s)):\n",
    "        window_freq[s[i - len(p)]] -= 1\n",
    "        if window_freq[s[i - len(p)]] == 0:\n",
    "            del window_freq[s[i - len(p)]]\n",
    "        window_freq[s[i]] += 1\n",
    "        if window_freq == p_freq:\n",
    "            result.append(i - len(p) + 1)\n",
    "    return result\n",
    "s = \"cbaebabacd\"\n",
    "p = \"abc\"\n",
    "indices = findAnagrams(s, p)\n",
    "print(indices)\n"
   ]
  },
  {
   "cell_type": "code",
   "execution_count": 11,
   "id": "2cacd2f9",
   "metadata": {},
   "outputs": [
    {
     "name": "stdout",
     "output_type": "stream",
     "text": [
      "aaabcbc\n"
     ]
    }
   ],
   "source": [
    "def deString(s):\n",
    "    stack = []\n",
    "    current_string = ''\n",
    "    current_number = 0\n",
    "    for char in s:\n",
    "        if char.isdigit():\n",
    "            current_number = current_number * 10 + int(char)\n",
    "        elif char == '[':\n",
    "            stack.append((current_number, current_string))\n",
    "            current_number = 0\n",
    "            current_string = ''\n",
    "        elif char == ']':\n",
    "            repeat_number, prev_string = stack.pop()\n",
    "            current_string = prev_string + repeat_number * current_string\n",
    "        else:\n",
    "            current_string += char\n",
    "    return current_string\n",
    "s = \"3[a]2[bc]\"\n",
    "decoded_string = deString(s)\n",
    "print(decoded_string)\n"
   ]
  },
  {
   "cell_type": "code",
   "execution_count": 13,
   "id": "ca4b38de",
   "metadata": {},
   "outputs": [
    {
     "name": "stdout",
     "output_type": "stream",
     "text": [
      "True\n"
     ]
    }
   ],
   "source": [
    "def samestrings(s, goal):\n",
    "    if len(s) != len(goal):\n",
    "        return False\n",
    "    if s == goal:\n",
    "        return len(set(s)) < len(s)\n",
    "    differences = []\n",
    "    for i in range(len(s)):\n",
    "        if s[i] != goal[i]:\n",
    "            differences.append((s[i], goal[i]))\n",
    "    return len(differences) == 2 and differences[0] == differences[1][::-1]\n",
    "s = \"ab\"\n",
    "goal = \"ba\"\n",
    "result = samestrings(s, goal)\n",
    "print(result)\n"
   ]
  },
  {
   "cell_type": "code",
   "execution_count": null,
   "id": "85d6d6d2",
   "metadata": {},
   "outputs": [],
   "source": []
  }
 ],
 "metadata": {
  "kernelspec": {
   "display_name": "Python 3 (ipykernel)",
   "language": "python",
   "name": "python3"
  },
  "language_info": {
   "codemirror_mode": {
    "name": "ipython",
    "version": 3
   },
   "file_extension": ".py",
   "mimetype": "text/x-python",
   "name": "python",
   "nbconvert_exporter": "python",
   "pygments_lexer": "ipython3",
   "version": "3.9.12"
  }
 },
 "nbformat": 4,
 "nbformat_minor": 5
}
