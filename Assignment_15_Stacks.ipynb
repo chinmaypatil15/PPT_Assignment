{
 "cells": [
  {
   "cell_type": "code",
   "execution_count": 1,
   "id": "1fd314c7",
   "metadata": {},
   "outputs": [
    {
     "name": "stdout",
     "output_type": "stream",
     "text": [
      "[3, 4, 4, -1]\n",
      "[8, -1, 1, 3, -1]\n"
     ]
    }
   ],
   "source": [
    "def greaterelement(arr):\n",
    "    n = len(arr)\n",
    "    stack = []\n",
    "    output = [-1] * n\n",
    "\n",
    "    for i in range(n-1, -1, -1):\n",
    "        while stack and stack[-1] <= arr[i]:\n",
    "            stack.pop()\n",
    "\n",
    "        if stack:\n",
    "            output[i] = stack[-1]\n",
    "\n",
    "        stack.append(arr[i])\n",
    "\n",
    "    return output\n",
    "\n",
    "\n",
    "arr = [1, 3, 2, 4]\n",
    "result = greaterelement(arr)\n",
    "print(result)\n",
    "\n",
    "arr = [6, 8, 0, 1, 3]\n",
    "result = greaterelement(arr)\n",
    "print(result)\n"
   ]
  },
  {
   "cell_type": "code",
   "execution_count": 2,
   "id": "d63a4ccd",
   "metadata": {},
   "outputs": [
    {
     "name": "stdout",
     "output_type": "stream",
     "text": [
      "[-1, 1, 1]\n",
      "[-1, 1, -1, 0, 3, 4]\n"
     ]
    }
   ],
   "source": [
    "def smallerelement(arr):\n",
    "    n = len(arr)\n",
    "    stack = []\n",
    "    output = [-1] * n\n",
    "\n",
    "    for i in range(n):\n",
    "        while stack and stack[-1] >= arr[i]:\n",
    "            stack.pop()\n",
    "\n",
    "        if stack:\n",
    "            output[i] = stack[-1]\n",
    "\n",
    "        stack.append(arr[i])\n",
    "\n",
    "    return output\n",
    "\n",
    "arr = [1, 6, 2]\n",
    "result = smallerelement(arr)\n",
    "print(result)\n",
    "\n",
    "arr = [1, 5, 0, 3, 4, 5]\n",
    "result = smallerelement(arr)\n",
    "print(result)\n"
   ]
  },
  {
   "cell_type": "code",
   "execution_count": 8,
   "id": "dd62decb",
   "metadata": {},
   "outputs": [
    {
     "name": "stdout",
     "output_type": "stream",
     "text": [
      "3\n",
      "2\n",
      "2\n",
      "-1\n"
     ]
    }
   ],
   "source": [
    "class Stack:\n",
    "    def __init__(self):\n",
    "        self.q1 = []\n",
    "        self.q2 = []\n",
    "\n",
    "    def push(self, value):\n",
    "        self.q1.append(value)\n",
    "\n",
    "    def pop(self):\n",
    "        if not self.q1 and not self.q2:\n",
    "            return -1\n",
    "\n",
    "        if not self.q2:\n",
    "            while len(self.q1) > 1:\n",
    "                self.q2.append(self.q1.pop(0))\n",
    "\n",
    "            return self.q1.pop(0)\n",
    "\n",
    "        return self.q2.pop(0)\n",
    "\n",
    "    def is_empty(self):\n",
    "        return len(self.q1) == 0 and len(self.q2) == 0\n",
    "\n",
    "    \n",
    "stack = Stack()\n",
    "stack.push(2)\n",
    "stack.push(3)\n",
    "print(stack.pop())\n",
    "stack.push(4)\n",
    "print(stack.pop())\n",
    "\n",
    "stack = Stack()\n",
    "stack.push(2)\n",
    "print(stack.pop())\n",
    "print(stack.pop())\n",
    "stack.push(3)\n"
   ]
  },
  {
   "cell_type": "code",
   "execution_count": 9,
   "id": "65587450",
   "metadata": {},
   "outputs": [
    {
     "name": "stdout",
     "output_type": "stream",
     "text": [
      "[6, 7, 1, 2, 3]\n",
      "[6, 9, 3, 4]\n"
     ]
    }
   ],
   "source": [
    "def insert_at_bottom(stack, item):\n",
    "    if not stack:\n",
    "        stack.append(item)\n",
    "    else:\n",
    "        temp = stack.pop()\n",
    "        insert_at_bottom(stack, item)\n",
    "        stack.append(temp)\n",
    "\n",
    "def reverse_stack(stack):\n",
    "    if len(stack) > 1:\n",
    "        top_element = stack.pop()\n",
    "        reverse_stack(stack)\n",
    "        insert_at_bottom(stack, top_element)\n",
    "\n",
    "St = [3, 2, 1, 7, 6]\n",
    "reverse_stack(St)\n",
    "print(St)\n",
    "\n",
    "St = [4, 3, 9, 6]\n",
    "reverse_stack(St)\n",
    "print(St)\n"
   ]
  },
  {
   "cell_type": "code",
   "execution_count": 10,
   "id": "340269b3",
   "metadata": {},
   "outputs": [
    {
     "name": "stdout",
     "output_type": "stream",
     "text": [
      "skeeGrofskeeG\n"
     ]
    }
   ],
   "source": [
    "def reverse_string(S):\n",
    "    stack = []\n",
    "    for char in S:\n",
    "        stack.append(char)\n",
    "\n",
    "    reversed_string = \"\"\n",
    "    while stack:\n",
    "        reversed_string += stack.pop()\n",
    "\n",
    "    return reversed_string\n",
    "\n",
    "S = \"GeeksforGeeks\"\n",
    "reversed_str = reverse_string(S)\n",
    "print(reversed_str)\n"
   ]
  },
  {
   "cell_type": "code",
   "execution_count": 11,
   "id": "fd3506e5",
   "metadata": {},
   "outputs": [
    {
     "name": "stdout",
     "output_type": "stream",
     "text": [
      "-4\n",
      "-3\n"
     ]
    }
   ],
   "source": [
    "def evaluate_postfix(expression):\n",
    "    stack = []\n",
    "    for char in expression:\n",
    "        if char.isdigit():\n",
    "            stack.append(int(char))\n",
    "        else:\n",
    "            operand2 = stack.pop()\n",
    "            operand1 = stack.pop()\n",
    "            result = perform_operation(operand1, operand2, char)\n",
    "            stack.append(result)\n",
    "\n",
    "    return stack.pop()\n",
    "\n",
    "def perform_operation(operand1, operand2, operator):\n",
    "    if operator == '*':\n",
    "        return operand1 * operand2\n",
    "    elif operator == '/':\n",
    "        return operand1 / operand2\n",
    "    elif operator == '+':\n",
    "        return operand1 + operand2\n",
    "    elif operator == '-':\n",
    "        return operand1 - operand2\n",
    "\n",
    "expression = \"231*+9-\"\n",
    "result = evaluate_postfix(expression)\n",
    "print(result)\n",
    "\n",
    "expression = \"123+*8-\"\n",
    "result = evaluate_postfix(expression)\n",
    "print(result)\n"
   ]
  },
  {
   "cell_type": "code",
   "execution_count": 12,
   "id": "708fe840",
   "metadata": {},
   "outputs": [
    {
     "name": "stdout",
     "output_type": "stream",
     "text": [
      "-3\n",
      "0\n",
      "-2\n"
     ]
    }
   ],
   "source": [
    "class MinStack:\n",
    "    def __init__(self):\n",
    "        self.stack = []\n",
    "        self.min_stack = []\n",
    "\n",
    "    def push(self, val):\n",
    "        self.stack.append(val)\n",
    "\n",
    "        if not self.min_stack or val <= self.min_stack[-1]:\n",
    "            self.min_stack.append(val)\n",
    "\n",
    "    def pop(self):\n",
    "        if self.stack:\n",
    "            popped_element = self.stack.pop()\n",
    "\n",
    "            if popped_element == self.min_stack[-1]:\n",
    "                self.min_stack.pop()\n",
    "\n",
    "    def top(self):\n",
    "        if self.stack:\n",
    "            return self.stack[-1]\n",
    "\n",
    "    def getMin(self):\n",
    "        if self.min_stack:\n",
    "            return self.min_stack[-1]\n",
    "\n",
    "minStack = MinStack()\n",
    "minStack.push(-2)\n",
    "minStack.push(0)\n",
    "minStack.push(-3)\n",
    "print(minStack.getMin())\n",
    "minStack.pop()\n",
    "print(minStack.top())\n",
    "print(minStack.getMin())\n"
   ]
  },
  {
   "cell_type": "code",
   "execution_count": 14,
   "id": "0120ae0d",
   "metadata": {},
   "outputs": [
    {
     "name": "stdout",
     "output_type": "stream",
     "text": [
      "6\n",
      "9\n"
     ]
    }
   ],
   "source": [
    "def findWater(arr, n):\n",
    "    left = [0]*n\n",
    "    right = [0]*n\n",
    "\n",
    "    water = 0\n",
    "\n",
    "    left[0] = arr[0]\n",
    "    for i in range(1, n):\n",
    "        left[i] = max(left[i-1], arr[i])\n",
    "\n",
    "    right[n-1] = arr[n-1]\n",
    "    for i in range(n-2, -1, -1):\n",
    "        right[i] = max(right[i + 1], arr[i])\n",
    "  \n",
    "    for i in range(0, n):\n",
    "        water += min(left[i], right[i]) - arr[i]\n",
    "\n",
    "    return water\n",
    "  \n",
    "\n",
    "if __name__ == '__main__':\n",
    "    arr = [0, 1, 0, 2, 1, 0, 1, 3, 2, 1, 2, 1]\n",
    "    n = len(arr)\n",
    "    print(findWater(arr, n))\n",
    "    \n",
    "    \n",
    "    arr1 = [4,2,0,3,2,5]\n",
    "    n = len(arr1)\n",
    "    print(findWater(arr1, n))"
   ]
  },
  {
   "cell_type": "code",
   "execution_count": null,
   "id": "13691c33",
   "metadata": {},
   "outputs": [],
   "source": []
  }
 ],
 "metadata": {
  "kernelspec": {
   "display_name": "Python 3 (ipykernel)",
   "language": "python",
   "name": "python3"
  },
  "language_info": {
   "codemirror_mode": {
    "name": "ipython",
    "version": 3
   },
   "file_extension": ".py",
   "mimetype": "text/x-python",
   "name": "python",
   "nbconvert_exporter": "python",
   "pygments_lexer": "ipython3",
   "version": "3.9.12"
  }
 },
 "nbformat": 4,
 "nbformat_minor": 5
}
