{
 "cells": [
  {
   "cell_type": "code",
   "execution_count": 1,
   "id": "b4fb708e",
   "metadata": {},
   "outputs": [
    {
     "name": "stdout",
     "output_type": "stream",
     "text": [
      "2\n",
      "2\n"
     ]
    }
   ],
   "source": [
    "def sqrt(x):\n",
    "    left = 0\n",
    "    right = x\n",
    "\n",
    "    while left <= right:\n",
    "        mid = (left + right) // 2\n",
    "        mid_squared = mid * mid\n",
    "\n",
    "        if mid_squared == x:\n",
    "            return mid\n",
    "        elif mid_squared < x:\n",
    "            left = mid + 1\n",
    "        else:\n",
    "            right = mid - 1\n",
    "\n",
    "    return right\n",
    "print(sqrt(4))\n",
    "print(sqrt(8))"
   ]
  },
  {
   "cell_type": "code",
   "execution_count": 32,
   "id": "2e7a873e",
   "metadata": {},
   "outputs": [
    {
     "name": "stdout",
     "output_type": "stream",
     "text": [
      "Example 1:\n",
      "7 0 8 \n",
      "Example 2:\n",
      "0 \n",
      "Example 3:\n",
      "8 9 9 9 0 0 0 1 \n"
     ]
    }
   ],
   "source": [
    "class lists:\n",
    "    def __init__(self, val=0, next=None):\n",
    "        self.val = val\n",
    "        self.next = next\n",
    "\n",
    "def twolist(l1, l2):\n",
    "    dummy = lists()\n",
    "    curr = dummy\n",
    "    carry = 0\n",
    "\n",
    "    while l1 or l2:\n",
    "        val1 = l1.val if l1 else 0\n",
    "        val2 = l2.val if l2 else 0\n",
    "        total = val1 + val2 + carry\n",
    "\n",
    "        carry = total // 10\n",
    "        curr.next = lists(total % 10)\n",
    "\n",
    "        curr = curr.next\n",
    "        if l1:\n",
    "            l1 = l1.next\n",
    "        if l2:\n",
    "            l2 = l2.next\n",
    "\n",
    "    if carry:\n",
    "        curr.next = lists(carry)\n",
    "\n",
    "    return dummy.next\n",
    "\n",
    "\n",
    "\n",
    "def printLinkedList(head):\n",
    "    curr = head\n",
    "    while curr is not None:\n",
    "        print(curr.val, end=\" \")\n",
    "        curr = curr.next\n",
    "    print()\n",
    "\n",
    "# Example 1\n",
    "l1 = lists(2)\n",
    "l1.next = lists(4)\n",
    "l1.next.next = lists(3)\n",
    "\n",
    "l2 = lists(5)\n",
    "l2.next = lists(6)\n",
    "l2.next.next = lists(4)\n",
    "\n",
    "result = twolist(l1, l2)\n",
    "print(\"Example 1:\")\n",
    "printLinkedList(result)\n",
    "\n",
    "# Example 2\n",
    "l1 = lists(0)\n",
    "l2 = lists(0)\n",
    "\n",
    "result = twolist(l1, l2)\n",
    "print(\"Example 2:\")\n",
    "printLinkedList(result)\n",
    "\n",
    "# Example 3\n",
    "l1 = lists(9)\n",
    "l1.next = lists(9)\n",
    "l1.next.next = lists(9)\n",
    "l1.next.next.next = lists(9)\n",
    "l1.next.next.next.next = lists(9)\n",
    "l1.next.next.next.next.next = lists(9)\n",
    "l1.next.next.next.next.next.next = lists(9)\n",
    "\n",
    "l2 = lists(9)\n",
    "l2.next = lists(9)\n",
    "l2.next.next = lists(9)\n",
    "l2.next.next.next = lists(9)\n",
    "\n",
    "result = twolist(l1, l2)\n",
    "print(\"Example 3:\")\n",
    "printLinkedList(result)"
   ]
  },
  {
   "cell_type": "code",
   "execution_count": null,
   "id": "d11f1923",
   "metadata": {},
   "outputs": [],
   "source": []
  }
 ],
 "metadata": {
  "kernelspec": {
   "display_name": "Python 3 (ipykernel)",
   "language": "python",
   "name": "python3"
  },
  "language_info": {
   "codemirror_mode": {
    "name": "ipython",
    "version": 3
   },
   "file_extension": ".py",
   "mimetype": "text/x-python",
   "name": "python",
   "nbconvert_exporter": "python",
   "pygments_lexer": "ipython3",
   "version": "3.9.12"
  }
 },
 "nbformat": 4,
 "nbformat_minor": 5
}
