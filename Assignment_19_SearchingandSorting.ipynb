{
 "cells": [
  {
   "cell_type": "code",
   "execution_count": 1,
   "id": "54a111f9",
   "metadata": {},
   "outputs": [
    {
     "name": "stdout",
     "output_type": "stream",
     "text": [
      "1->1->2->3->4->4->5->6->"
     ]
    }
   ],
   "source": [
    "import heapq\n",
    "\n",
    "class ListNode:\n",
    "    def __init__(self, val=0, next=None):\n",
    "        self.val = val\n",
    "        self.next = next\n",
    "\n",
    "def mergeKLists(lists):\n",
    "    min_heap = []\n",
    "\n",
    "    for i, node in enumerate(lists):\n",
    "        if node:\n",
    "            heapq.heappush(min_heap, (node.val, i))\n",
    "\n",
    "    dummy = ListNode()\n",
    "    current = dummy\n",
    "\n",
    "    while min_heap:\n",
    "        val, i = heapq.heappop(min_heap)\n",
    "        current.next = ListNode(val)\n",
    "        current = current.next\n",
    "        if lists[i].next:\n",
    "            lists[i] = lists[i].next\n",
    "            heapq.heappush(min_heap, (lists[i].val, i))\n",
    "\n",
    "    return dummy.next\n",
    "\n",
    "list1 = ListNode(1)\n",
    "list1.next = ListNode(4)\n",
    "list1.next.next = ListNode(5)\n",
    "\n",
    "list2 = ListNode(1)\n",
    "list2.next = ListNode(3)\n",
    "list2.next.next = ListNode(4)\n",
    "\n",
    "list3 = ListNode(2)\n",
    "list3.next = ListNode(6)\n",
    "\n",
    "merged_list = mergeKLists([list1, list2, list3])\n",
    "\n",
    "current = merged_list\n",
    "while current:\n",
    "    print(current.val, end=\"->\")\n",
    "    current = current.next\n"
   ]
  },
  {
   "cell_type": "code",
   "execution_count": 2,
   "id": "8eaba9a3",
   "metadata": {},
   "outputs": [
    {
     "name": "stdout",
     "output_type": "stream",
     "text": [
      "[1, 0, 1, 0]\n",
      "[0]\n",
      "[0, 0]\n"
     ]
    }
   ],
   "source": [
    "def countSmaller(nums):\n",
    "    counts = [0] * len(nums)\n",
    "\n",
    "    num_indices = [(num, index) for index, num in enumerate(nums)]\n",
    "\n",
    "    def merge_sort(nums, start, end):\n",
    "        if start >= end:\n",
    "            return\n",
    "\n",
    "        mid = start + (end - start) // 2\n",
    "\n",
    "        merge_sort(nums, start, mid)\n",
    "        merge_sort(nums, mid + 1, end)\n",
    "\n",
    "        merge(nums, start, mid, end)\n",
    "\n",
    "    def merge(nums, start, mid, end):\n",
    "        merged = []\n",
    "        i = start\n",
    "        j = mid + 1\n",
    "        right_count = 0\n",
    "\n",
    "        while i <= mid and j <= end:\n",
    "            if num_indices[i][0] > num_indices[j][0]:\n",
    "                right_count += 1\n",
    "                merged.append(num_indices[j])\n",
    "                j += 1\n",
    "            else:\n",
    "                counts[num_indices[i][1]] += right_count\n",
    "                merged.append(num_indices[i])\n",
    "                i += 1\n",
    "\n",
    "        while i <= mid:\n",
    "            counts[num_indices[i][1]] += right_count\n",
    "            merged.append(num_indices[i])\n",
    "            i += 1\n",
    "\n",
    "        while j <= end:\n",
    "            merged.append(num_indices[j])\n",
    "            j += 1\n",
    "\n",
    "        nums[start:end + 1] = merged\n",
    "\n",
    "    merge_sort(nums, 0, len(nums) - 1)\n",
    "    return counts\n",
    "\n",
    "\n",
    "nums = [5, 2, 6, 1]\n",
    "print(countSmaller(nums))\n",
    "\n",
    "nums = [-1]\n",
    "print(countSmaller(nums))\n",
    "\n",
    "nums = [-1, -1]\n",
    "print(countSmaller(nums))\n"
   ]
  },
  {
   "cell_type": "code",
   "execution_count": 11,
   "id": "67135d48",
   "metadata": {},
   "outputs": [
    {
     "name": "stdout",
     "output_type": "stream",
     "text": [
      "[1, 2, 3, 5]\n",
      "[0, 0, 1, 1, 2, 5]\n"
     ]
    }
   ],
   "source": [
    "from random import randint\n",
    "\n",
    "class Solution:\n",
    "    def sortArray(self, nums):\n",
    "        def quick_sort(l, r):\n",
    "            if l >= r:\n",
    "                return\n",
    "            x = nums[randint(l, r)]\n",
    "            i, j, k = l - 1, r + 1, l\n",
    "            while k < j:\n",
    "                if nums[k] < x:\n",
    "                    nums[i + 1], nums[k] = nums[k], nums[i + 1]\n",
    "                    i, k = i + 1, k + 1\n",
    "                elif nums[k] > x:\n",
    "                    j -= 1\n",
    "                    nums[j], nums[k] = nums[k], nums[j]\n",
    "                else:\n",
    "                    k = k + 1\n",
    "            quick_sort(l, i)\n",
    "            quick_sort(j, r)\n",
    "\n",
    "        quick_sort(0, len(nums) - 1)\n",
    "        return nums\n",
    "\n",
    "nums = [5, 2, 3, 1]\n",
    "solution = Solution()\n",
    "print(solution.sortArray(nums))\n",
    "\n",
    "nums = [5, 1, 1, 2, 0, 0]\n",
    "print(solution.sortArray(nums))\n",
    "\n"
   ]
  },
  {
   "cell_type": "code",
   "execution_count": 12,
   "id": "5a314884",
   "metadata": {},
   "outputs": [
    {
     "name": "stdout",
     "output_type": "stream",
     "text": [
      "pushing all zeros to end of array:\n",
      "[1, 2, 4, 3, 5, 0, 0, 0]\n",
      "pushing all zeros to end of array:\n",
      "[1, 2, 3, 6, 0, 0, 0]\n"
     ]
    }
   ],
   "source": [
    "def pushZerosToEnd(arr, n):\n",
    "    count = 0\n",
    "\n",
    "    for i in range(n):\n",
    "        if arr[i] != 0:\n",
    "            arr[count] = arr[i]\n",
    "            count+=1\n",
    "    while count < n:\n",
    "        arr[count] = 0\n",
    "        count += 1\n",
    "         \n",
    "arr = [1, 2, 0, 4, 3, 0, 5, 0]\n",
    "n = len(arr)\n",
    "pushZerosToEnd(arr, n)\n",
    "print(\"pushing all zeros to end of array:\")\n",
    "print(arr)\n",
    "\n",
    "arr = [1, 2, 0, 0, 0, 3, 6]\n",
    "n = len(arr)\n",
    "pushZerosToEnd(arr, n)\n",
    "print(\"pushing all zeros to end of array:\")\n",
    "print(arr)"
   ]
  },
  {
   "cell_type": "code",
   "execution_count": 14,
   "id": "ed7e8ea4",
   "metadata": {},
   "outputs": [
    {
     "name": "stdout",
     "output_type": "stream",
     "text": [
      "Given Array is:\n",
      "[1, 2, 3, -4, -1, 4]\n",
      "\n",
      "Rearranged array is:\n",
      "[-4, 1, -1, 2, 3, 4]\n",
      "\n",
      "Given Array is:\n",
      "[-5, -2, 5, 2, 4, 7, 1, 8, 0, -8]\n",
      "\n",
      "Rearranged array is:\n",
      "[-5, 5, -2, 2, -8, 4, 7, 1, 8, 0]\n"
     ]
    }
   ],
   "source": [
    "def rightRotate(arr, n, outOfPlace, cur):\n",
    "    temp = arr[cur]\n",
    "    for i in range(cur, outOfPlace, -1):\n",
    "        arr[i] = arr[i - 1]\n",
    "    arr[outOfPlace] = temp\n",
    "    return arr\n",
    " \n",
    " \n",
    "def rearrange(arr, n):\n",
    "    outOfPlace = -1\n",
    "    for index in range(n):\n",
    "        if(outOfPlace >= 0):\n",
    "            if((arr[index] >= 0 and arr[outOfPlace] < 0) or\n",
    "               (arr[index] < 0 and arr[outOfPlace] >= 0)):\n",
    "                arr = rightRotate(arr, n, outOfPlace, index)\n",
    "                if(index-outOfPlace > 2):\n",
    "                    outOfPlace += 2\n",
    "                else:\n",
    "                    outOfPlace = - 1\n",
    "        if(outOfPlace == -1):\n",
    "             if((arr[index] >= 0 and index % 2 == 0) or\n",
    "               (arr[index] < 0 and index % 2 == 1)):\n",
    "                outOfPlace = index\n",
    "    return arr\n",
    "arr = [1, 2, 3, -4, -1, 4]\n",
    " \n",
    "print(\"Given Array is:\")\n",
    "print(arr)\n",
    " \n",
    "print(\"\\nRearranged array is:\")\n",
    "print(rearrange(arr, len(arr)))\n",
    "arr = [-5, -2, 5, 2, 4, 7, 1, 8, 0, -8]\n",
    " \n",
    "print(\"\\nGiven Array is:\")\n",
    "print(arr)\n",
    " \n",
    "print(\"\\nRearranged array is:\")\n",
    "print(rearrange(arr, len(arr)))"
   ]
  },
  {
   "cell_type": "code",
   "execution_count": 16,
   "id": "4c3c242c",
   "metadata": {},
   "outputs": [
    {
     "name": "stdout",
     "output_type": "stream",
     "text": [
      "\n",
      "Array after merging\n",
      "1 2 3 4 5 6 7 8 \n",
      "Array after merging\n",
      "4 5 7 8 8 9 "
     ]
    }
   ],
   "source": [
    "def mergeArrays(arr1, arr2, n1, n2):\n",
    "    arr3 = [None] * (n1 + n2)\n",
    "    i = 0\n",
    "    j = 0\n",
    "    k = 0\n",
    " \n",
    "    while i < n1 and j < n2:\n",
    "\n",
    "        if arr1[i] < arr2[j]:\n",
    "            arr3[k] = arr1[i]\n",
    "            k = k + 1\n",
    "            i = i + 1\n",
    "        else:\n",
    "            arr3[k] = arr2[j]\n",
    "            k = k + 1\n",
    "            j = j + 1\n",
    "    while i < n1:\n",
    "        arr3[k] = arr1[i];\n",
    "        k = k + 1\n",
    "        i = i + 1\n",
    " \n",
    "    while j < n2:\n",
    "        arr3[k] = arr2[j];\n",
    "        k = k + 1\n",
    "        j = j + 1\n",
    "    print(\"\\nArray after merging\")\n",
    "    for i in range(n1 + n2):\n",
    "        print(str(arr3[i]), end = \" \")\n",
    " \n",
    "arr1 = [1, 3, 5, 7]\n",
    "n1 = len(arr1)\n",
    " \n",
    "arr2 = [2, 4, 6, 8]\n",
    "n2 = len(arr2)\n",
    "mergeArrays(arr1, arr2, n1, n2);\n",
    "\n",
    "\n",
    "arr1 = [ 5, 8, 9]\n",
    "n1 = len(arr1)\n",
    " \n",
    "arr2 = [4, 7, 8]\n",
    "n2 = len(arr2)\n",
    "mergeArrays(arr1, arr2, n1, n2);"
   ]
  },
  {
   "cell_type": "code",
   "execution_count": 17,
   "id": "7789b5aa",
   "metadata": {},
   "outputs": [
    {
     "name": "stdout",
     "output_type": "stream",
     "text": [
      "[2]\n",
      "[9, 4]\n"
     ]
    }
   ],
   "source": [
    "from typing import List\n",
    "\n",
    "class Solution:\n",
    "    def intersection(self, nums1: List[int], nums2: List[int]) -> List[int]:\n",
    "        x = set(nums1)\n",
    "        y = set(nums2)\n",
    "        return list(x.intersection(y))\n",
    "\n",
    "nums1 = [1, 2, 2, 1]\n",
    "nums2 = [2, 2]\n",
    "solution = Solution()\n",
    "print(solution.intersection(nums1, nums2))\n",
    "\n",
    "nums1 = [4, 9, 5]\n",
    "nums2 = [9, 4, 9, 8, 4]\n",
    "print(solution.intersection(nums1, nums2))\n"
   ]
  },
  {
   "cell_type": "code",
   "execution_count": 18,
   "id": "03143f88",
   "metadata": {},
   "outputs": [
    {
     "name": "stdout",
     "output_type": "stream",
     "text": [
      "[2, 2]\n",
      "[9, 4]\n"
     ]
    }
   ],
   "source": [
    "from typing import List\n",
    "\n",
    "class Solution:\n",
    "    def intersect(self, nums1: List[int], nums2: List[int]) -> List[int]:\n",
    "        hashMap = {}\n",
    "        result = []\n",
    "        for num in nums1:\n",
    "            hashMap[num] = hashMap.get(num, 0) + 1\n",
    "\n",
    "        for num in nums2:\n",
    "            if num in hashMap and hashMap[num] != 0:\n",
    "                result.append(num)\n",
    "                hashMap[num] -= 1\n",
    "\n",
    "        return result\n",
    "\n",
    "\n",
    "nums1 = [1, 2, 2, 1]\n",
    "nums2 = [2, 2]\n",
    "solution = Solution()\n",
    "print(solution.intersect(nums1, nums2))\n",
    "\n",
    "nums1 = [4, 9, 5]\n",
    "nums2 = [9, 4, 9, 8, 4]\n",
    "print(solution.intersect(nums1, nums2))\n"
   ]
  },
  {
   "cell_type": "code",
   "execution_count": null,
   "id": "298b042d",
   "metadata": {},
   "outputs": [],
   "source": []
  }
 ],
 "metadata": {
  "kernelspec": {
   "display_name": "Python 3 (ipykernel)",
   "language": "python",
   "name": "python3"
  },
  "language_info": {
   "codemirror_mode": {
    "name": "ipython",
    "version": 3
   },
   "file_extension": ".py",
   "mimetype": "text/x-python",
   "name": "python",
   "nbconvert_exporter": "python",
   "pygments_lexer": "ipython3",
   "version": "3.9.12"
  }
 },
 "nbformat": 4,
 "nbformat_minor": 5
}
